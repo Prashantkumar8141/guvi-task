 import random
class user:
  def __init__(self):
    user.uname(self)
    user.password(self)
    db = open("file.txt", "a+")
    db.write(self.Username+", "+str(self.Password)+"\n")
    print(f'\nGreat {self.Username} . User registered successfully!')
    db.close() 
  def uname(self):
    lst=[]
    un=input('Please enter an unique user name: \t')
    if '@' in un and '.' in un and un.find('@')!=un.find('.')-1 and un.find('@')!=0 and un[0].isalnum()==True:
      self.Username=un
    else:
      print('\nIncorrect password. Tr again.')
      user.uname(self)
     
  def password(self):
    print('''\npassword must:
      1. 5 < password length > 16
      2. Must have minimum one special character
      3. one digit
      4. one uppercase
      5. one lowercase character ''')
    pw=input('Please enter password: \t')
    if 5 <=len(pw)<= 16 and pw.isalnum()==False and any(i.isupper() for i in pw) and any(i.islower() for i in pw) and any(i.isdigit() for i in pw):
      self.Password=pw
    else:
      print('\nIncorrect password. Try again.')
      user.password(self)

class login:
  def __init__(self):
    login.log(self) 
  def log(self):
    en=input('Enter Username :\t')
    ep=input('Enter password :\t')
    db=open('file.txt','r')
    for line in db.readlines():
      info=line.split(', ')
      if en==info[0] and ep==info[1].strip():
        print("\nLogin success!")
        print("Hi", en,'!')
        db.close()
        return True
    print('\nUsername \ Password not found. Either check login credentials or register.')
    return False

class forget:
  def __init__(self):
    forget.password(self)
  def password(self):
    self.en=input('Enter Username :\t')
    forget.verify(self)
  def verify(self):
    a=random.randint(0,30)
    b=random.randint(0,30)
    z=input(f'\nNot a Robot. Please provide the correct input. \nSolve the expression. \n\t{a} + {b} =\t')
    db=open('file.txt','r')
    if int(z)==a+b:
      for line in db.readlines():
        info=line.split(', ')
        if self.en==info[0]:
          print(f"\nDear {self.en}, your password is {info[1].strip()}")
          print('\nUse this password to login in future.\nPlease do not share the password with anyone.')
          db.close()
          return True
      print('User not found. Either check login credentials or register.')
      return False
    else:
      print('invalid input. Try again.')
      forget.verify(self)

print(('Welcome to Our Dashboard\n').center(150))
x=input('Press 1 to Register and 2 to Login :\t')
if x=='1':
  print(' \nWelcome to registration window.\n')
  d=user()
elif x=='2':
  y=input('\nTo Login press 1 and if Forget password press 2 :\t\t')
  if y=='1':
    print(' \nWelcome to login window.\n')
    e=login()
  elif y=='2':
    print(' \nForget password ! Dont worry.\n')
    f=forget()
  else:
    print('Invalid input ! Try again.')
else:
  print('Invalid input ! Try again.')
