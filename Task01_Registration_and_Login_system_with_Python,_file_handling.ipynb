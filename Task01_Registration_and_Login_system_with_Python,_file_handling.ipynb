{
  "nbformat": 4,
  "nbformat_minor": 0,
  "metadata": {
    "colab": {
      "name": "Task01_Registration and Login system with Python, file handling.ipynb",
      "provenance": []
    },
    "kernelspec": {
      "name": "python3",
      "display_name": "Python 3"
    },
    "language_info": {
      "name": "python"
    }
  },
  "cells": [
    {
      "cell_type": "markdown",
      "source": [
        "**Advance Programming and Master Data Science**"
      ],
      "metadata": {
        "id": "WV4MNNBdn7y9"
      }
    },
    {
      "cell_type": "markdown",
      "source": [
        "BATCH NO: DW09\n",
        "\n",
        "TASK: 01\n",
        "\n",
        "Assignment No:01\n",
        "\n",
        "NAME: T Prashant"
      ],
      "metadata": {
        "id": "-7BWxpC0ntB4"
      }
    },
    {
      "cell_type": "markdown",
      "source": [
        "# **Registration and Login system with Python, file handling**"
      ],
      "metadata": {
        "id": "Ehr0g8c8nHvg"
      }
    },
    {
      "cell_type": "code",
      "source": [
        "import random\n",
        "class user:\n",
        "  def __init__(self):\n",
        "    user.uname(self)\n",
        "    user.password(self)\n",
        "    db = open(\"file.txt\", \"a+\")\n",
        "    db.write(self.Username+\", \"+str(self.Password)+\"\\n\")\n",
        "    print(f'\\nGreat {self.Username} . User registered successfully!')\n",
        "    db.close() \n",
        "  def uname(self):\n",
        "    lst=[]\n",
        "    un=input('Please enter an unique user name: \\t')\n",
        "    if '@' in un and '.' in un and un.find('@')!=un.find('.')-1 and un.find('@')!=0 and un[0].isalnum()==True:\n",
        "      self.Username=un\n",
        "    else:\n",
        "      print('\\nIncorrect password. Tr again.')\n",
        "      user.uname(self)\n",
        "     \n",
        "  def password(self):\n",
        "    print('''\\npassword must:\n",
        "      1. 5 < password length > 16\n",
        "      2. Must have minimum one special character\n",
        "      3. one digit\n",
        "      4. one uppercase\n",
        "      5. one lowercase character ''')\n",
        "    pw=input('Please enter password: \\t')\n",
        "    if 5 <=len(pw)<= 16 and pw.isalnum()==False and any(i.isupper() for i in pw) and any(i.islower() for i in pw) and any(i.isdigit() for i in pw):\n",
        "      self.Password=pw\n",
        "    else:\n",
        "      print('\\nIncorrect password. Try again.')\n",
        "      user.password(self)\n",
        "\n",
        "class login:\n",
        "  def __init__(self):\n",
        "    login.log(self) \n",
        "  def log(self):\n",
        "    en=input('Enter Username :\\t')\n",
        "    ep=input('Enter password :\\t')\n",
        "    db=open('file.txt','r')\n",
        "    for line in db.readlines():\n",
        "      info=line.split(', ')\n",
        "      if en==info[0] and ep==info[1].strip():\n",
        "        print(\"\\nLogin success!\")\n",
        "        print(\"Hi\", en,'!')\n",
        "        db.close()\n",
        "        return True\n",
        "    print('\\nUsername \\ Password not found. Either check login credentials or register.')\n",
        "    return False\n",
        "\n",
        "class forget:\n",
        "  def __init__(self):\n",
        "    forget.password(self)\n",
        "  def password(self):\n",
        "    self.en=input('Enter Username :\\t')\n",
        "    forget.verify(self)\n",
        "  def verify(self):\n",
        "    a=random.randint(0,30)\n",
        "    b=random.randint(0,30)\n",
        "    z=input(f'\\nNot a Robot. Please provide the correct input. \\nSolve the expression. \\n\\t{a} + {b} =\\t')\n",
        "    db=open('file.txt','r')\n",
        "    if int(z)==a+b:\n",
        "      for line in db.readlines():\n",
        "        info=line.split(', ')\n",
        "        if self.en==info[0]:\n",
        "          print(f\"\\nDear {self.en}, your password is {info[1].strip()}\")\n",
        "          print('\\nUse this password to login in future.\\nPlease do not share the password with anyone.')\n",
        "          db.close()\n",
        "          return True\n",
        "      print('User not found. Either check login credentials or register.')\n",
        "      return False\n",
        "    else:\n",
        "      print('invalid input. Try again.')\n",
        "      forget.verify(self)\n",
        "\n",
        "print(('Welcome to Our Dashboard\\n').center(150))\n",
        "x=input('Press 1 to Register and 2 to Login :\\t')\n",
        "if x=='1':\n",
        "  print(' \\nWelcome to registration window.\\n')\n",
        "  d=user()\n",
        "elif x=='2':\n",
        "  y=input('\\nTo Login press 1 and if Forget password press 2 :\\t\\t')\n",
        "  if y=='1':\n",
        "    print(' \\nWelcome to login window.\\n')\n",
        "    e=login()\n",
        "  elif y=='2':\n",
        "    print(' \\nForget password ! Dont worry.\\n')\n",
        "    f=forget()\n",
        "  else:\n",
        "    print('Invalid input ! Try again.')\n",
        "else:\n",
        "  print('Invalid input ! Try again.')\n",
        "  "
      ],
      "metadata": {
        "colab": {
          "base_uri": "https://localhost:8080/"
        },
        "id": "P_D5bLD2lLUD",
        "outputId": "3e7e4ec7-50ed-4707-9913-6fc3ea7479df"
      },
      "execution_count": 12,
      "outputs": [
        {
          "output_type": "stream",
          "name": "stdout",
          "text": [
            "                                                              Welcome to Our Dashboard\n",
            "                                                               \n",
            "Press 1 to Register and 2 to Login :\t2\n",
            "\n",
            "To Login press 1 and if Forget password press 2 :\t\t1\n",
            " \n",
            "Welcome to login window.\n",
            "\n",
            "Enter Username :\tRahul@gmail.com\n",
            "Enter password :\tRahul@12345\n",
            "\n",
            "Login success!\n",
            "Hi Rahul@gmail.com !\n"
          ]
        }
      ]
    }
  ]
}