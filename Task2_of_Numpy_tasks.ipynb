{
  "cells": [
    {
      "cell_type": "markdown",
      "metadata": {
        "id": "oII5mncSYLCX"
      },
      "source": [
        "# Numpy\n",
        "\n"
      ]
    },
    {
      "cell_type": "markdown",
      "metadata": {
        "id": "k-OpycDXYLCd"
      },
      "source": [
        "#### 1. Import the numpy package under the name `np` (★☆☆) \n",
        "(**hint**: import … as …)"
      ]
    },
    {
      "cell_type": "code",
      "execution_count": 1,
      "metadata": {
        "collapsed": true,
        "id": "0RyHJKqcYLCf"
      },
      "outputs": [],
      "source": [
        "import numpy as np"
      ]
    },
    {
      "cell_type": "markdown",
      "metadata": {
        "id": "ndD70hTCYLCg"
      },
      "source": [
        "#### 2. Print the numpy version and the configuration (★☆☆) \n",
        "(**hint**: np.\\_\\_version\\_\\_, np.show\\_config)"
      ]
    },
    {
      "cell_type": "code",
      "execution_count": 2,
      "metadata": {
        "id": "hh3UwhS6YLCh",
        "outputId": "177cca63-bd55-4516-e550-50cccc486c6d",
        "colab": {
          "base_uri": "https://localhost:8080/"
        }
      },
      "outputs": [
        {
          "output_type": "stream",
          "name": "stdout",
          "text": [
            "1.21.5\n",
            "blas_mkl_info:\n",
            "  NOT AVAILABLE\n",
            "blis_info:\n",
            "  NOT AVAILABLE\n",
            "openblas_info:\n",
            "    libraries = ['openblas', 'openblas']\n",
            "    library_dirs = ['/usr/local/lib']\n",
            "    language = c\n",
            "    define_macros = [('HAVE_CBLAS', None)]\n",
            "    runtime_library_dirs = ['/usr/local/lib']\n",
            "blas_opt_info:\n",
            "    libraries = ['openblas', 'openblas']\n",
            "    library_dirs = ['/usr/local/lib']\n",
            "    language = c\n",
            "    define_macros = [('HAVE_CBLAS', None)]\n",
            "    runtime_library_dirs = ['/usr/local/lib']\n",
            "lapack_mkl_info:\n",
            "  NOT AVAILABLE\n",
            "openblas_lapack_info:\n",
            "    libraries = ['openblas', 'openblas']\n",
            "    library_dirs = ['/usr/local/lib']\n",
            "    language = c\n",
            "    define_macros = [('HAVE_CBLAS', None)]\n",
            "    runtime_library_dirs = ['/usr/local/lib']\n",
            "lapack_opt_info:\n",
            "    libraries = ['openblas', 'openblas']\n",
            "    library_dirs = ['/usr/local/lib']\n",
            "    language = c\n",
            "    define_macros = [('HAVE_CBLAS', None)]\n",
            "    runtime_library_dirs = ['/usr/local/lib']\n",
            "Supported SIMD extensions in this NumPy install:\n",
            "    baseline = SSE,SSE2,SSE3\n",
            "    found = SSSE3,SSE41,POPCNT,SSE42,AVX,F16C,FMA3,AVX2\n",
            "    not found = AVX512F,AVX512CD,AVX512_KNL,AVX512_KNM,AVX512_SKX,AVX512_CLX,AVX512_CNL,AVX512_ICL\n"
          ]
        }
      ],
      "source": [
        "print(np.__version__)\n",
        "np.show_config()"
      ]
    },
    {
      "cell_type": "markdown",
      "metadata": {
        "id": "pNEQ5nuKYLCi"
      },
      "source": [
        "#### 3. Create a null vector of size 10 (★☆☆) \n",
        "(**hint**: np.zeros)"
      ]
    },
    {
      "cell_type": "code",
      "execution_count": 3,
      "metadata": {
        "id": "scpZ-RUxYLCj",
        "outputId": "a6567aec-305b-471b-b18b-13b070d1d5e0",
        "colab": {
          "base_uri": "https://localhost:8080/"
        }
      },
      "outputs": [
        {
          "output_type": "stream",
          "name": "stdout",
          "text": [
            "[0. 0. 0. 0. 0. 0. 0. 0. 0. 0.]\n"
          ]
        }
      ],
      "source": [
        "x = np.zeros(10)\n",
        "print(x)"
      ]
    },
    {
      "cell_type": "markdown",
      "metadata": {
        "id": "SOgrQU10YLCk"
      },
      "source": [
        "#### 4.  How to find the memory size of any array (★☆☆) \n",
        "(**hint**: size, itemsize)"
      ]
    },
    {
      "cell_type": "code",
      "execution_count": 4,
      "metadata": {
        "id": "cWJ9ii0rYLCl",
        "outputId": "6cffd85f-a118-457b-ba7a-ddb340ad2101",
        "colab": {
          "base_uri": "https://localhost:8080/"
        }
      },
      "outputs": [
        {
          "output_type": "stream",
          "name": "stdout",
          "text": [
            "400 bytes\n"
          ]
        }
      ],
      "source": [
        "x =np.zeros((10,5))\n",
        "print(\"%d bytes\" % (x.size* x.itemsize))"
      ]
    },
    {
      "cell_type": "markdown",
      "metadata": {
        "id": "uCb0wOinYLCm"
      },
      "source": [
        "#### 5.  How to get the documentation of the numpy add function from the command line? (★☆☆) \n",
        "(**hint**: np.info)"
      ]
    },
    {
      "cell_type": "code",
      "execution_count": 104,
      "metadata": {
        "collapsed": true,
        "id": "Vcgv_CMlYLCn",
        "colab": {
          "base_uri": "https://localhost:8080/"
        },
        "outputId": "4c291092-904f-451e-fe54-f477aa80eb84"
      },
      "outputs": [
        {
          "output_type": "stream",
          "name": "stderr",
          "text": [
            "ERROR:root:File `'python -c \"import numpy; numpy.info(numpy.add)\".py'` not found.\n"
          ]
        }
      ],
      "source": [
        "%run 'python -c \"import numpy; numpy.info(numpy.add)\"'"
      ]
    },
    {
      "cell_type": "markdown",
      "metadata": {
        "id": "C9gRnIjgYLCn"
      },
      "source": [
        "#### 6.  Create a null vector of size 10 but the fifth value which is 1 (★☆☆) \n",
        "(**hint**: array\\[4\\])"
      ]
    },
    {
      "cell_type": "code",
      "execution_count": 5,
      "metadata": {
        "id": "wFo5Bi1aYLCo",
        "outputId": "a6d34345-dd73-4dce-c2dc-4261ad78f0ea",
        "colab": {
          "base_uri": "https://localhost:8080/"
        }
      },
      "outputs": [
        {
          "output_type": "stream",
          "name": "stdout",
          "text": [
            "[0. 0. 0. 0. 1. 0. 0. 0. 0. 0.]\n"
          ]
        }
      ],
      "source": [
        "array =np.zeros(10)\n",
        "array[4] = 1\n",
        "print(array)"
      ]
    },
    {
      "cell_type": "markdown",
      "metadata": {
        "id": "iUoQP6LRYLCo"
      },
      "source": [
        "#### 7.  Create a vector with values ranging from 10 to 49 (★☆☆) \n",
        "(**hint**: np.arange)"
      ]
    },
    {
      "cell_type": "code",
      "execution_count": 6,
      "metadata": {
        "id": "wz68VEpoYLCp",
        "outputId": "cc18fc7e-a52f-48b0-aa1c-e3e6ac7667d5",
        "colab": {
          "base_uri": "https://localhost:8080/"
        }
      },
      "outputs": [
        {
          "output_type": "stream",
          "name": "stdout",
          "text": [
            "[10 11 12 13 14 15 16 17 18 19 20 21 22 23 24 25 26 27 28 29 30 31 32 33\n",
            " 34 35 36 37 38 39 40 41 42 43 44 45 46 47 48 49]\n"
          ]
        }
      ],
      "source": [
        "array = np.arange(10,50)\n",
        "print(array)\n"
      ]
    },
    {
      "cell_type": "markdown",
      "metadata": {
        "id": "fHhzZ8DOYLCp"
      },
      "source": [
        "#### 8.  Reverse a vector (first element becomes last) (★☆☆) \n",
        "(**hint**: array\\[::-1\\])"
      ]
    },
    {
      "cell_type": "code",
      "execution_count": 7,
      "metadata": {
        "id": "eINr5YW-YLCq",
        "colab": {
          "base_uri": "https://localhost:8080/"
        },
        "outputId": "e2110b51-a06b-4385-d273-3fe3d5d09822"
      },
      "outputs": [
        {
          "output_type": "stream",
          "name": "stdout",
          "text": [
            "[49 48 47 46 45 44 43 42 41 40 39 38 37 36 35 34 33 32 31 30 29 28 27 26\n",
            " 25 24 23 22 21 20 19 18 17 16 15 14 13 12 11 10  9  8  7  6  5  4  3  2\n",
            "  1]\n"
          ]
        }
      ],
      "source": [
        "array = np.arange(1,50)\n",
        "array_rev =array[::-1]\n",
        "print(array_rev)"
      ]
    },
    {
      "cell_type": "markdown",
      "metadata": {
        "id": "weEiP36hYLCq"
      },
      "source": [
        "#### 9.  Create a 3x3 matrix with values ranging from 0 to 8 (★☆☆) \n",
        "(**hint**: reshape)"
      ]
    },
    {
      "cell_type": "code",
      "execution_count": 8,
      "metadata": {
        "id": "EVVpRHenYLCr",
        "colab": {
          "base_uri": "https://localhost:8080/"
        },
        "outputId": "761c27e9-79ca-44c3-a89d-b63ab9321d50"
      },
      "outputs": [
        {
          "output_type": "stream",
          "name": "stdout",
          "text": [
            "[[1 2 3]\n",
            " [4 5 6]\n",
            " [7 8 9]]\n"
          ]
        }
      ],
      "source": [
        "matrix =np.arange(1,10).reshape(3,3)\n",
        "print(matrix)"
      ]
    },
    {
      "cell_type": "markdown",
      "metadata": {
        "id": "PPaMwsWSYLCr"
      },
      "source": [
        "#### 10. Find indices of non-zero elements from \\[1,2,0,0,4,0\\] (★☆☆) \n",
        "(**hint**: np.nonzero)"
      ]
    },
    {
      "cell_type": "code",
      "execution_count": 9,
      "metadata": {
        "id": "1UqE0VtTYLCs",
        "colab": {
          "base_uri": "https://localhost:8080/"
        },
        "outputId": "dd1f9751-c1cd-4da7-b7f3-d087ac88263c"
      },
      "outputs": [
        {
          "output_type": "stream",
          "name": "stdout",
          "text": [
            "(array([0, 1, 4]),)\n"
          ]
        }
      ],
      "source": [
        "nonz=np.nonzero([1,2,0,0,4,0])\n",
        "print(nonz)\n"
      ]
    },
    {
      "cell_type": "markdown",
      "metadata": {
        "id": "vGq-DUBsYLCs"
      },
      "source": [
        "#### 11. Create a 3x3 identity matrix (★☆☆) \n",
        "(**hint**: np.eye)"
      ]
    },
    {
      "cell_type": "code",
      "execution_count": 10,
      "metadata": {
        "id": "VV9RPaaCYLCs",
        "colab": {
          "base_uri": "https://localhost:8080/"
        },
        "outputId": "fd207dcc-59d4-4457-cd25-c32f0b2a2a66"
      },
      "outputs": [
        {
          "output_type": "stream",
          "name": "stdout",
          "text": [
            "[[1. 0. 0.]\n",
            " [0. 1. 0.]\n",
            " [0. 0. 1.]]\n"
          ]
        }
      ],
      "source": [
        "imatrix=np.eye(3)\n",
        "print(imatrix)"
      ]
    },
    {
      "cell_type": "markdown",
      "metadata": {
        "id": "6Tu9qGnLYLCt"
      },
      "source": [
        "#### 12. Create a 3x3x3 array with random values (★☆☆) \n",
        "(**hint**: np.random.random)"
      ]
    },
    {
      "cell_type": "code",
      "execution_count": 11,
      "metadata": {
        "collapsed": true,
        "id": "K4t57olvYLCt",
        "colab": {
          "base_uri": "https://localhost:8080/"
        },
        "outputId": "5063f007-0e2a-457c-c08f-e2d96b2273b8"
      },
      "outputs": [
        {
          "output_type": "stream",
          "name": "stdout",
          "text": [
            "[[[0.71704889 0.32397141 0.63976805]\n",
            "  [0.72688999 0.48596751 0.13704827]\n",
            "  [0.96983826 0.53133506 0.94468065]]\n",
            "\n",
            " [[0.59006872 0.67239179 0.61484105]\n",
            "  [0.33618509 0.19030584 0.752046  ]\n",
            "  [0.84820183 0.77623927 0.40337573]]\n",
            "\n",
            " [[0.41930806 0.50155667 0.96716266]\n",
            "  [0.2098746  0.27228202 0.64085782]\n",
            "  [0.60197241 0.09723752 0.29300883]]]\n"
          ]
        }
      ],
      "source": [
        "rand_matrix=np.random.random((3,3,3))\n",
        "print(rand_matrix)"
      ]
    },
    {
      "cell_type": "markdown",
      "metadata": {
        "id": "Vf6eFP7eYLCt"
      },
      "source": [
        "#### 13. Create a 10x10 array with random values and find the minimum and maximum values (★☆☆) \n",
        "(**hint**: min, max)"
      ]
    },
    {
      "cell_type": "code",
      "execution_count": 12,
      "metadata": {
        "id": "PuuxQLCeYLCt",
        "colab": {
          "base_uri": "https://localhost:8080/"
        },
        "outputId": "90d4ba55-34a2-420c-bb0d-f0645f07a14d"
      },
      "outputs": [
        {
          "output_type": "stream",
          "name": "stdout",
          "text": [
            "minimum is: 0.005780568418991439 \n",
            "maximum is: 0.9901409511147383\n"
          ]
        }
      ],
      "source": [
        "rmatrix=np.random.random((10,10))\n",
        "mini=rmatrix.min()\n",
        "maxi=rmatrix.max()\n",
        "print(\"minimum is:\",mini,\"\\nmaximum is:\",maxi)"
      ]
    },
    {
      "cell_type": "markdown",
      "metadata": {
        "id": "eGAcAtecYLCu"
      },
      "source": [
        "#### 14. Create a random vector of size 30 and find the mean value (★☆☆) \n",
        "(**hint**: mean)"
      ]
    },
    {
      "cell_type": "code",
      "execution_count": 13,
      "metadata": {
        "id": "SEhgAqVJYLCu",
        "colab": {
          "base_uri": "https://localhost:8080/"
        },
        "outputId": "29908c1c-c5f5-4566-e20e-509c5b3db93d"
      },
      "outputs": [
        {
          "output_type": "stream",
          "name": "stdout",
          "text": [
            "mean is: 0.5015528894647028\n"
          ]
        }
      ],
      "source": [
        "aray=np.random.random(30)\n",
        "aray_mean=aray.mean()\n",
        "print(\"mean is:\",aray_mean)\n"
      ]
    },
    {
      "cell_type": "markdown",
      "metadata": {
        "id": "rMTPG4euYLCu"
      },
      "source": [
        "#### 15. Create a 2d array with 1 on the border and 0 inside (★☆☆) \n",
        "(**hint**: array\\[1:-1, 1:-1\\])"
      ]
    },
    {
      "cell_type": "code",
      "execution_count": 14,
      "metadata": {
        "id": "JKUPZuFHYLCu",
        "colab": {
          "base_uri": "https://localhost:8080/"
        },
        "outputId": "35923297-30be-4901-826a-992eefa55515"
      },
      "outputs": [
        {
          "output_type": "stream",
          "name": "stdout",
          "text": [
            "[[1. 1. 1. 1. 1.]\n",
            " [1. 0. 0. 0. 1.]\n",
            " [1. 0. 0. 0. 1.]\n",
            " [1. 0. 0. 0. 1.]\n",
            " [1. 1. 1. 1. 1.]]\n"
          ]
        }
      ],
      "source": [
        "ones=np.ones((5,5))\n",
        "ones[1:-1,1:-1]=0\n",
        "print(ones)\n"
      ]
    },
    {
      "cell_type": "markdown",
      "metadata": {
        "id": "SsJWWdALYLCv"
      },
      "source": [
        "#### 16. How to add a border (filled with 0's) around an existing array? (★☆☆) \n",
        "(**hint**: np.pad)"
      ]
    },
    {
      "cell_type": "code",
      "execution_count": 15,
      "metadata": {
        "id": "uxh8YAWyYLCv",
        "colab": {
          "base_uri": "https://localhost:8080/"
        },
        "outputId": "73a50c62-acd1-4601-c139-5ea3c0037343"
      },
      "outputs": [
        {
          "output_type": "stream",
          "name": "stdout",
          "text": [
            "[[0. 0. 0. 0. 0. 0. 0.]\n",
            " [0. 1. 1. 1. 1. 1. 0.]\n",
            " [0. 1. 1. 1. 1. 1. 0.]\n",
            " [0. 1. 1. 1. 1. 1. 0.]\n",
            " [0. 1. 1. 1. 1. 1. 0.]\n",
            " [0. 1. 1. 1. 1. 1. 0.]\n",
            " [0. 0. 0. 0. 0. 0. 0.]]\n"
          ]
        }
      ],
      "source": [
        "aray = np.ones((5,5))\n",
        "aray = np.pad(aray, pad_width=1, mode='constant', constant_values=0)\n",
        "print(aray)"
      ]
    },
    {
      "cell_type": "markdown",
      "metadata": {
        "id": "GNjxsU9jYLCv"
      },
      "source": [
        "#### 17. What is the result of the following expression? (★☆☆) \n",
        "(**hint**: NaN = not a number, inf = infinity)"
      ]
    },
    {
      "cell_type": "markdown",
      "metadata": {
        "id": "y01KjuCYYLCw"
      },
      "source": [
        "```python\n",
        "0 * np.nan\n",
        "np.nan == np.nan\n",
        "np.inf > np.nan\n",
        "np.nan - np.nan\n",
        "0.3 == 3 * 0.1\n",
        "```"
      ]
    },
    {
      "cell_type": "code",
      "execution_count": 16,
      "metadata": {
        "id": "KjHH8Fa5YLCw",
        "colab": {
          "base_uri": "https://localhost:8080/"
        },
        "outputId": "b28cf1cc-b462-485b-ddce-3476f53b9054"
      },
      "outputs": [
        {
          "output_type": "stream",
          "name": "stdout",
          "text": [
            "nan\n",
            "False\n",
            "False\n",
            "nan\n",
            "False\n"
          ]
        }
      ],
      "source": [
        "print(0 * np.nan)\n",
        "print(np.nan == np.nan)\n",
        "print(np.inf > np.nan)\n",
        "print(np.nan - np.nan)\n",
        "print(0.3 == 3 * 0.1)"
      ]
    },
    {
      "cell_type": "markdown",
      "metadata": {
        "id": "nbI9FJtYYLCw"
      },
      "source": [
        "#### 18. Create a 5x5 matrix with values 1,2,3,4 just below the diagonal (★☆☆) \n",
        "(**hint**: np.diag)"
      ]
    },
    {
      "cell_type": "code",
      "execution_count": 17,
      "metadata": {
        "id": "Bu5xfR_oYLCx",
        "colab": {
          "base_uri": "https://localhost:8080/"
        },
        "outputId": "cd09a4e5-4e55-4f1b-98ca-f607dbd45dc0"
      },
      "outputs": [
        {
          "output_type": "stream",
          "name": "stdout",
          "text": [
            "[[0 0 0 0 0]\n",
            " [1 0 0 0 0]\n",
            " [0 2 0 0 0]\n",
            " [0 0 3 0 0]\n",
            " [0 0 0 4 0]]\n"
          ]
        }
      ],
      "source": [
        "matrix=np.diag(np.arange(1,5),k=-1)\n",
        "print(matrix)"
      ]
    },
    {
      "cell_type": "markdown",
      "metadata": {
        "id": "DJuaL2p3YLCx"
      },
      "source": [
        "#### 19. Create a 8x8 matrix and fill it with a checkerboard pattern (★☆☆) \n",
        "(**hint**: array\\[::2\\])"
      ]
    },
    {
      "cell_type": "code",
      "execution_count": 18,
      "metadata": {
        "id": "WGACW1iPYLCx",
        "colab": {
          "base_uri": "https://localhost:8080/"
        },
        "outputId": "983357ad-2f13-4730-9f14-1bb799459f54"
      },
      "outputs": [
        {
          "output_type": "stream",
          "name": "stdout",
          "text": [
            "[[0 1 0 1 0 1 0 1]\n",
            " [1 0 1 0 1 0 1 0]\n",
            " [0 1 0 1 0 1 0 1]\n",
            " [1 0 1 0 1 0 1 0]\n",
            " [0 1 0 1 0 1 0 1]\n",
            " [1 0 1 0 1 0 1 0]\n",
            " [0 1 0 1 0 1 0 1]\n",
            " [1 0 1 0 1 0 1 0]]\n"
          ]
        }
      ],
      "source": [
        "checker=np.zeros((8,8),dtype=int)\n",
        "checker[1::2,::2]=1\n",
        "checker[::2,1::2]=1\n",
        "print(checker)"
      ]
    },
    {
      "cell_type": "markdown",
      "metadata": {
        "id": "OJNh4BZmYLCx"
      },
      "source": [
        "#### 20. Consider a (6,7,8) shape array, what is the index (x,y,z) of the 100th element? \n",
        "(**hint**: np.unravel_index)"
      ]
    },
    {
      "cell_type": "code",
      "execution_count": 19,
      "metadata": {
        "id": "H22NLOsRYLCy",
        "colab": {
          "base_uri": "https://localhost:8080/"
        },
        "outputId": "44ec32a1-f60a-4601-b6ac-cfbe7814a1b9"
      },
      "outputs": [
        {
          "output_type": "stream",
          "name": "stdout",
          "text": [
            "(1, 5, 4)\n"
          ]
        }
      ],
      "source": [
        "#n=np.random.random((6,7,8))\n",
        "#print(n)\n",
        "print(np.unravel_index(100,(6,7,8)))"
      ]
    },
    {
      "cell_type": "markdown",
      "metadata": {
        "id": "OgTOgEVQYLCy"
      },
      "source": [
        "#### 21. Create a checkerboard 8x8 matrix using the tile function (★☆☆) \n",
        "(**hint**: np.tile)"
      ]
    },
    {
      "cell_type": "code",
      "execution_count": 20,
      "metadata": {
        "id": "c_Qtc7xmYLCy",
        "colab": {
          "base_uri": "https://localhost:8080/"
        },
        "outputId": "2e2a2c8b-d0b5-4069-9755-7e172b7ef4e1"
      },
      "outputs": [
        {
          "output_type": "stream",
          "name": "stdout",
          "text": [
            "[[0 1 0 1 0 1 0 1]\n",
            " [1 0 1 0 1 0 1 0]\n",
            " [0 1 0 1 0 1 0 1]\n",
            " [1 0 1 0 1 0 1 0]\n",
            " [0 1 0 1 0 1 0 1]\n",
            " [1 0 1 0 1 0 1 0]\n",
            " [0 1 0 1 0 1 0 1]\n",
            " [1 0 1 0 1 0 1 0]]\n"
          ]
        }
      ],
      "source": [
        "checker=np.tile(np.array([[0,1],[1,0]]),(4,4))\n",
        "print(checker)"
      ]
    },
    {
      "cell_type": "markdown",
      "metadata": {
        "id": "Nk80tHJrYLCz"
      },
      "source": [
        "#### 22. Normalize a 5x5 random matrix (★☆☆) \n",
        "(**hint**: (x - min) / (max - min))"
      ]
    },
    {
      "cell_type": "code",
      "execution_count": 21,
      "metadata": {
        "id": "loNK-sMiYLCz",
        "colab": {
          "base_uri": "https://localhost:8080/"
        },
        "outputId": "9a3115d7-714d-43ad-9fc6-ba41a7e75078"
      },
      "outputs": [
        {
          "output_type": "stream",
          "name": "stdout",
          "text": [
            "[[0.43946848 0.30340982 1.         0.68661883 0.6385632 ]\n",
            " [0.07672168 0.11048329 0.51140562 0.66208684 0.23503054]\n",
            " [0.30222282 0.49082212 0.23058163 0.36435845 0.58468779]\n",
            " [0.29528448 0.         0.83044412 0.4475276  0.0338035 ]\n",
            " [0.38106402 0.74129243 0.90005931 0.21774089 0.36873662]]\n"
          ]
        }
      ],
      "source": [
        "x=np.random.random((5,5))\n",
        "maxi,mini=x.max(),x.min()\n",
        "x=(x-mini)/(maxi-mini)\n",
        "print(x)\n"
      ]
    },
    {
      "cell_type": "markdown",
      "metadata": {
        "id": "RVfBLe16YLCz"
      },
      "source": [
        "#### 23. Create a custom dtype that describes a color as four unsigned bytes (RGBA) (★☆☆) \n",
        "(**hint**: np.dtype)"
      ]
    },
    {
      "cell_type": "code",
      "execution_count": 105,
      "metadata": {
        "collapsed": true,
        "id": "h2SU2XuRYLC0",
        "colab": {
          "base_uri": "https://localhost:8080/"
        },
        "outputId": "b4e2f66b-d23c-4e16-a5ea-a297130ecaf0"
      },
      "outputs": [
        {
          "output_type": "stream",
          "name": "stderr",
          "text": [
            "/usr/local/lib/python3.7/dist-packages/ipykernel_launcher.py:4: FutureWarning: Passing (type, 1) or '1type' as a synonym of type is deprecated; in a future version of numpy, it will be understood as (type, (1,)) / '(1,)type'.\n",
            "  after removing the cwd from sys.path.\n"
          ]
        }
      ],
      "source": [
        "new_color=np.dtype([(\"r\",np.ubyte,1),\n",
        "                    (\"g\",np.ubyte,1),\n",
        "                    (\"b\",np.ubyte,1),\n",
        "                    (\"a\",np.ubyte,1)])"
      ]
    },
    {
      "cell_type": "markdown",
      "metadata": {
        "id": "9h4XBmTXYLC0"
      },
      "source": [
        "#### 24. Multiply a 5x3 matrix by a 3x2 matrix (real matrix product) (★☆☆) \n",
        "(**hint**: np.dot | @)"
      ]
    },
    {
      "cell_type": "code",
      "execution_count": 23,
      "metadata": {
        "id": "zCUpoU74YLC0",
        "colab": {
          "base_uri": "https://localhost:8080/"
        },
        "outputId": "45ae5a14-3271-41d4-a5ab-4dd8e722b10c"
      },
      "outputs": [
        {
          "output_type": "stream",
          "name": "stdout",
          "text": [
            "[[3. 3.]\n",
            " [3. 3.]\n",
            " [3. 3.]\n",
            " [3. 3.]\n",
            " [3. 3.]]\n"
          ]
        }
      ],
      "source": [
        "x=np.dot(np.ones((5,3)),np.ones((3,2)))\n",
        "print(x)"
      ]
    },
    {
      "cell_type": "markdown",
      "metadata": {
        "id": "xN0IBrL_YLC0"
      },
      "source": [
        "#### 25. Given a 1D array, negate all elements which are between 3 and 8, in place. (★☆☆) \n",
        "(**hint**: >, <=)"
      ]
    },
    {
      "cell_type": "code",
      "execution_count": 24,
      "metadata": {
        "id": "Gn4rKphOYLC0",
        "colab": {
          "base_uri": "https://localhost:8080/"
        },
        "outputId": "d1de437c-4564-4238-e217-7bd032a94544"
      },
      "outputs": [
        {
          "output_type": "stream",
          "name": "stdout",
          "text": [
            "[ 0  1  2  3 -4 -5 -6 -7 -8  9 10]\n"
          ]
        }
      ],
      "source": [
        "x=np.arange(11)\n",
        "x[(3<x)&(x<=8)] *= -1\n",
        "print(x)"
      ]
    },
    {
      "cell_type": "markdown",
      "metadata": {
        "id": "1r1xQOPaYLC1"
      },
      "source": [
        "#### 26. What is the output of the following script? (★☆☆) \n",
        "(**hint**: np.sum)"
      ]
    },
    {
      "cell_type": "markdown",
      "metadata": {
        "id": "SLZsfqJoYLC1"
      },
      "source": [
        "```python\n",
        "# Author: Jake VanderPlas\n",
        "\n",
        "print(sum(range(5),-1))\n",
        "from numpy import *\n",
        "print(sum(range(5),-1))\n",
        "```"
      ]
    },
    {
      "cell_type": "code",
      "execution_count": 25,
      "metadata": {
        "id": "Wy8PvtLRYLC1",
        "colab": {
          "base_uri": "https://localhost:8080/"
        },
        "outputId": "62e6e797-b899-498f-bb5b-d2ee1f7311b8"
      },
      "outputs": [
        {
          "output_type": "stream",
          "name": "stdout",
          "text": [
            "10\n"
          ]
        }
      ],
      "source": [
        "from numpy import *\n",
        "print(sum(range(5),-1))\n"
      ]
    },
    {
      "cell_type": "markdown",
      "metadata": {
        "id": "TMS5qPbkYLC1"
      },
      "source": [
        "#### 27. Consider an integer vector Z, which of these expressions are legal? (★☆☆)"
      ]
    },
    {
      "cell_type": "markdown",
      "metadata": {
        "id": "KO3MmZCiYLC2"
      },
      "source": [
        "```python\n",
        "Z**Z\n",
        "2 << Z >> 2\n",
        "Z <- Z\n",
        "1j*Z\n",
        "Z/1/1\n",
        "Z<Z>Z\n",
        "```"
      ]
    },
    {
      "cell_type": "code",
      "execution_count": 26,
      "metadata": {
        "id": "Fp-opq7wYLC2",
        "colab": {
          "base_uri": "https://localhost:8080/"
        },
        "outputId": "3c97404f-7c2b-4431-c6ba-780a32c86509"
      },
      "outputs": [
        {
          "output_type": "execute_result",
          "data": {
            "text/plain": [
              "array([1., 1., 1., 1.])"
            ]
          },
          "metadata": {},
          "execution_count": 26
        }
      ],
      "source": [
        "z=np.ones(4)\n",
        "z**z\n",
        "z <- z\n",
        "1j*z\n",
        "z/1/1"
      ]
    },
    {
      "cell_type": "markdown",
      "metadata": {
        "id": "FaMfMtapYLC2"
      },
      "source": [
        "#### 28. What are the result of the following expressions?"
      ]
    },
    {
      "cell_type": "markdown",
      "metadata": {
        "id": "mZ3JuEW7YLC2"
      },
      "source": [
        "```python\n",
        "np.array(0) / np.array(0)\n",
        "np.array(0) // np.array(0)\n",
        "np.array([np.nan]).astype(int).astype(float)\n",
        "```"
      ]
    },
    {
      "cell_type": "code",
      "execution_count": 106,
      "metadata": {
        "id": "kSWGo3xBYLC3",
        "colab": {
          "base_uri": "https://localhost:8080/"
        },
        "outputId": "eb213170-055d-4606-9f8b-6891779ce838"
      },
      "outputs": [
        {
          "output_type": "stream",
          "name": "stdout",
          "text": [
            "nan\n",
            "0\n",
            "[-9.22337204e+18]\n"
          ]
        },
        {
          "output_type": "stream",
          "name": "stderr",
          "text": [
            "/usr/local/lib/python3.7/dist-packages/ipykernel_launcher.py:1: RuntimeWarning: invalid value encountered in true_divide\n",
            "  \"\"\"Entry point for launching an IPython kernel.\n",
            "/usr/local/lib/python3.7/dist-packages/ipykernel_launcher.py:2: RuntimeWarning: divide by zero encountered in floor_divide\n",
            "  \n"
          ]
        }
      ],
      "source": [
        "print(np.array(0) / np.array(0))\n",
        "print(np.array(0) // np.array(0))\n",
        "print(np.array([np.nan]).astype(int).astype(float))"
      ]
    },
    {
      "cell_type": "markdown",
      "metadata": {
        "id": "TA7E6WNkYLC3"
      },
      "source": [
        "#### 29. How to round away from zero a float array ? (★☆☆) \n",
        "(**hint**: np.uniform, np.copysign, np.ceil, np.abs)"
      ]
    },
    {
      "cell_type": "code",
      "execution_count": 28,
      "metadata": {
        "id": "0NWJ9--nYLC3",
        "colab": {
          "base_uri": "https://localhost:8080/"
        },
        "outputId": "2e8814c5-119c-4ec8-b391-6bdd0e1a1bd2"
      },
      "outputs": [
        {
          "output_type": "stream",
          "name": "stdout",
          "text": [
            "[ 10.  -9.  10.  10.   2.  -1.   1.  -5. -10.   7.]\n"
          ]
        }
      ],
      "source": [
        "aray = np.random.uniform(-10,+10,10)\n",
        "print (np.copysign(np.ceil(np.abs(aray)), aray))"
      ]
    },
    {
      "cell_type": "markdown",
      "metadata": {
        "id": "bKul-BLxYLC3"
      },
      "source": [
        "#### 30. How to find common values between two arrays? (★☆☆) \n",
        "(**hint**: np.intersect1d)"
      ]
    },
    {
      "cell_type": "code",
      "execution_count": 29,
      "metadata": {
        "id": "cBegVhYeYLC4",
        "colab": {
          "base_uri": "https://localhost:8080/"
        },
        "outputId": "8285554b-95b9-43ba-edc9-173323a46062"
      },
      "outputs": [
        {
          "output_type": "stream",
          "name": "stdout",
          "text": [
            "[2 4 7]\n"
          ]
        }
      ],
      "source": [
        "aray1 = np.random.randint(0,10,10)\n",
        "aray2 = np.random.randint(0,10,10)\n",
        "print(np.intersect1d(aray1,aray2))"
      ]
    },
    {
      "cell_type": "markdown",
      "metadata": {
        "id": "82WMVLA6YLC4"
      },
      "source": [
        "#### 31. How to ignore all numpy warnings (not recommended)? (★☆☆) \n",
        "(**hint**: np.seterr, np.errstate)"
      ]
    },
    {
      "cell_type": "code",
      "execution_count": 30,
      "metadata": {
        "id": "l1I-av6dYLC4"
      },
      "outputs": [],
      "source": [
        "with np.errstate(divide='ignore'):\n",
        "    aray = np.ones(1) / 0"
      ]
    },
    {
      "cell_type": "markdown",
      "metadata": {
        "id": "A0IpHdDAYLC4"
      },
      "source": [
        "#### 32. Is the following expressions true? (★☆☆) \n",
        "(**hint**: imaginary number)"
      ]
    },
    {
      "cell_type": "markdown",
      "metadata": {
        "id": "jxthqqmZYLC4"
      },
      "source": [
        "```python\n",
        "np.sqrt(-1) == np.emath.sqrt(-1)\n",
        "```"
      ]
    },
    {
      "cell_type": "code",
      "execution_count": 31,
      "metadata": {
        "id": "UxDDWL4DYLC5",
        "colab": {
          "base_uri": "https://localhost:8080/"
        },
        "outputId": "e53ec1a8-07e5-4519-df5b-229cd1096307"
      },
      "outputs": [
        {
          "output_type": "stream",
          "name": "stderr",
          "text": [
            "/usr/local/lib/python3.7/dist-packages/ipykernel_launcher.py:1: RuntimeWarning: invalid value encountered in sqrt\n",
            "  \"\"\"Entry point for launching an IPython kernel.\n"
          ]
        },
        {
          "output_type": "execute_result",
          "data": {
            "text/plain": [
              "False"
            ]
          },
          "metadata": {},
          "execution_count": 31
        }
      ],
      "source": [
        "np.sqrt(-1) == np.emath.sqrt(-1)"
      ]
    },
    {
      "cell_type": "markdown",
      "metadata": {
        "id": "4cXZnKVnYLC5"
      },
      "source": [
        "#### 33. How to get the dates of yesterday, today and tomorrow? (★☆☆) \n",
        "(**hint**: np.datetime64, np.timedelta64)"
      ]
    },
    {
      "cell_type": "code",
      "execution_count": 32,
      "metadata": {
        "collapsed": true,
        "id": "tCWSS52gYLC5",
        "colab": {
          "base_uri": "https://localhost:8080/"
        },
        "outputId": "83ce6d3b-d9cb-4c20-8225-36129d9cab91"
      },
      "outputs": [
        {
          "output_type": "stream",
          "name": "stdout",
          "text": [
            "\n",
            " 2022-04-09 \n",
            " 2022-04-10 \n",
            " 2022-04-11\n"
          ]
        }
      ],
      "source": [
        "yesterday = np.datetime64('today', 'D') - np.timedelta64(1, 'D')\n",
        "today     = np.datetime64('today', 'D')\n",
        "tomorrow  = np.datetime64('today', 'D') + np.timedelta64(1, 'D')\n",
        "print('\\n',yesterday,\"\\n\",today,'\\n',tomorrow)"
      ]
    },
    {
      "cell_type": "markdown",
      "metadata": {
        "id": "aZpq2xNLYLC5"
      },
      "source": [
        "#### 34. How to get all the dates corresponding to the month of July 2016? (★★☆) \n",
        "(**hint**: np.arange(dtype=datetime64\\['D'\\]))"
      ]
    },
    {
      "cell_type": "code",
      "execution_count": 33,
      "metadata": {
        "id": "iQ-smzcvYLC5",
        "colab": {
          "base_uri": "https://localhost:8080/"
        },
        "outputId": "c403a723-38bc-4362-ce26-40220a267373"
      },
      "outputs": [
        {
          "output_type": "stream",
          "name": "stdout",
          "text": [
            "['2016-07-01' '2016-07-02' '2016-07-03' '2016-07-04' '2016-07-05'\n",
            " '2016-07-06' '2016-07-07' '2016-07-08' '2016-07-09' '2016-07-10'\n",
            " '2016-07-11' '2016-07-12' '2016-07-13' '2016-07-14' '2016-07-15'\n",
            " '2016-07-16' '2016-07-17' '2016-07-18' '2016-07-19' '2016-07-20'\n",
            " '2016-07-21' '2016-07-22' '2016-07-23' '2016-07-24' '2016-07-25'\n",
            " '2016-07-26' '2016-07-27' '2016-07-28' '2016-07-29' '2016-07-30'\n",
            " '2016-07-31']\n"
          ]
        }
      ],
      "source": [
        "dates = np.arange('2016-07', '2016-08', dtype='datetime64[D]')\n",
        "print(dates)"
      ]
    },
    {
      "cell_type": "markdown",
      "metadata": {
        "id": "twBRKsf7YLC6"
      },
      "source": [
        "#### 35. How to compute ((A+B)\\*(-A/2)) in place (without copy)? (★★☆) \n",
        "(**hint**: np.add(out=), np.negative(out=), np.multiply(out=), np.divide(out=))"
      ]
    },
    {
      "cell_type": "code",
      "execution_count": 34,
      "metadata": {
        "id": "SSVAJkAbYLC6",
        "colab": {
          "base_uri": "https://localhost:8080/"
        },
        "outputId": "45f0ec74-8257-4a2e-e860-ab821c57a75d"
      },
      "outputs": [
        {
          "output_type": "execute_result",
          "data": {
            "text/plain": [
              "array([-1.5, -1.5, -1.5])"
            ]
          },
          "metadata": {},
          "execution_count": 34
        }
      ],
      "source": [
        "A = np.ones(3)*1\n",
        "B = np.ones(3)*2\n",
        "C = np.ones(3)*3\n",
        "np.add(A,B,out=B)\n",
        "np.divide(A,2,out=A)\n",
        "np.negative(A,out=A)\n",
        "np.multiply(A,B,out=A)"
      ]
    },
    {
      "cell_type": "markdown",
      "metadata": {
        "id": "Tu6daABwYLC6"
      },
      "source": [
        "#### 36. Extract the integer part of a random array using 5 different methods (★★☆) \n",
        "(**hint**: %, np.floor, np.ceil, astype, np.trunc)"
      ]
    },
    {
      "cell_type": "code",
      "execution_count": 35,
      "metadata": {
        "id": "TiJYQJTiYLC6",
        "colab": {
          "base_uri": "https://localhost:8080/"
        },
        "outputId": "503dd8cd-2a37-4b27-9d96-69d689421957"
      },
      "outputs": [
        {
          "output_type": "stream",
          "name": "stdout",
          "text": [
            "[0. 5. 3. 2. 0. 6. 1. 3. 9. 7.]\n",
            "[0. 5. 3. 2. 0. 6. 1. 3. 9. 7.]\n",
            "[0. 5. 3. 2. 0. 6. 1. 3. 9. 7.]\n",
            "[0 5 3 2 0 6 1 3 9 7]\n",
            "[0. 5. 3. 2. 0. 6. 1. 3. 9. 7.]\n"
          ]
        }
      ],
      "source": [
        "x = np.random.uniform(0,10,10)\n",
        "\n",
        "print (x - x%1)\n",
        "print (np.floor(x))\n",
        "print (np.ceil(x)-1)\n",
        "print (x.astype(int))\n",
        "print (np.trunc(x))"
      ]
    },
    {
      "cell_type": "markdown",
      "metadata": {
        "id": "DK4gcD1dYLC7"
      },
      "source": [
        "#### 37. Create a 5x5 matrix with row values ranging from 0 to 4 (★★☆) \n",
        "(**hint**: np.arange)"
      ]
    },
    {
      "cell_type": "code",
      "execution_count": 36,
      "metadata": {
        "id": "DZeQuMwuYLC7",
        "colab": {
          "base_uri": "https://localhost:8080/"
        },
        "outputId": "5c317c8c-5fbb-49c7-f1d0-68355d4a1959"
      },
      "outputs": [
        {
          "output_type": "stream",
          "name": "stdout",
          "text": [
            "[[0. 1. 2. 3. 4.]\n",
            " [0. 1. 2. 3. 4.]\n",
            " [0. 1. 2. 3. 4.]\n",
            " [0. 1. 2. 3. 4.]\n",
            " [0. 1. 2. 3. 4.]]\n"
          ]
        }
      ],
      "source": [
        "matrix=np.zeros((5,5))\n",
        "matrix+=np.arange(0,5)\n",
        "print(matrix)"
      ]
    },
    {
      "cell_type": "markdown",
      "metadata": {
        "id": "SXWG7eCzYLC7"
      },
      "source": [
        "#### 38. Consider a generator function that generates 10 integers and use it to build an array (★☆☆) \n",
        "(**hint**: np.fromiter)"
      ]
    },
    {
      "cell_type": "code",
      "execution_count": 37,
      "metadata": {
        "id": "zpaMKJVtYLC7",
        "colab": {
          "base_uri": "https://localhost:8080/"
        },
        "outputId": "2adac5a3-68da-4a2f-e4aa-1602f712f347"
      },
      "outputs": [
        {
          "output_type": "stream",
          "name": "stdout",
          "text": [
            "[0. 1. 2. 3. 4. 5. 6. 7. 8. 9.]\n"
          ]
        }
      ],
      "source": [
        "def generate():\n",
        "    for x in range(10):\n",
        "        yield x\n",
        "aray = np.fromiter(generate(),dtype=float,count=-1)\n",
        "print(aray)"
      ]
    },
    {
      "cell_type": "markdown",
      "metadata": {
        "id": "4dg6-jPmYLC7"
      },
      "source": [
        "#### 39. Create a vector of size 10 with values ranging from 0 to 1, both excluded (★★☆) \n",
        "(**hint**: np.linspace)"
      ]
    },
    {
      "cell_type": "code",
      "execution_count": 38,
      "metadata": {
        "id": "ewWvRCuAYLC8",
        "colab": {
          "base_uri": "https://localhost:8080/"
        },
        "outputId": "957b6e3c-e411-4e25-b023-0d3bb9053a7f"
      },
      "outputs": [
        {
          "output_type": "stream",
          "name": "stdout",
          "text": [
            "[0.09090909 0.18181818 0.27272727 0.36363636 0.45454545 0.54545455\n",
            " 0.63636364 0.72727273 0.81818182 0.90909091]\n"
          ]
        }
      ],
      "source": [
        "x = np.linspace(0,1,12,endpoint=True)[1:-1]\n",
        "print(x)"
      ]
    },
    {
      "cell_type": "markdown",
      "metadata": {
        "id": "F5CXkFOSYLC8"
      },
      "source": [
        "#### 40. Create a random vector of size 10 and sort it (★★☆) \n",
        "(**hint**: sort)"
      ]
    },
    {
      "cell_type": "code",
      "execution_count": 39,
      "metadata": {
        "id": "cGMGGdIwYLC8",
        "colab": {
          "base_uri": "https://localhost:8080/"
        },
        "outputId": "2304463e-4660-4533-82a4-02b26f4ba0b8"
      },
      "outputs": [
        {
          "output_type": "stream",
          "name": "stdout",
          "text": [
            "[0.0550371  0.11652052 0.15674153 0.26576734 0.48608999 0.49971611\n",
            " 0.59164946 0.77805481 0.83271879 0.89867499]\n"
          ]
        }
      ],
      "source": [
        "aray=np.random.random(10)\n",
        "aray.sort()\n",
        "print(aray)"
      ]
    },
    {
      "cell_type": "markdown",
      "metadata": {
        "id": "7NCRCT0_YLC8"
      },
      "source": [
        "#### 41. How to sum a small array faster than np.sum? (★★☆) \n",
        "(**hint**: np.add.reduce)"
      ]
    },
    {
      "cell_type": "code",
      "execution_count": 40,
      "metadata": {
        "id": "m9gWJfluYLC9",
        "colab": {
          "base_uri": "https://localhost:8080/"
        },
        "outputId": "a7e799f6-3796-4bae-d659-61ecf751eba7"
      },
      "outputs": [
        {
          "output_type": "execute_result",
          "data": {
            "text/plain": [
              "45"
            ]
          },
          "metadata": {},
          "execution_count": 40
        }
      ],
      "source": [
        "x = np.arange(10)\n",
        "np.add.reduce(x)"
      ]
    },
    {
      "cell_type": "markdown",
      "metadata": {
        "id": "F2W2lAwMYLC9"
      },
      "source": [
        "#### 42. Consider two random array A and B, check if they are equal (★★☆) \n",
        "(**hint**: np.allclose, np.array\\_equal)"
      ]
    },
    {
      "cell_type": "code",
      "execution_count": 41,
      "metadata": {
        "id": "m2qwouCxYLC9",
        "colab": {
          "base_uri": "https://localhost:8080/"
        },
        "outputId": "7a5c9c1a-f860-4b91-c0b6-e67743ab8309"
      },
      "outputs": [
        {
          "output_type": "stream",
          "name": "stdout",
          "text": [
            "False\n",
            "False\n"
          ]
        }
      ],
      "source": [
        "A = np.random.randint(0,2,5)\n",
        "B = np.random.randint(0,2,5)\n",
        "\n",
        "equal = np.allclose(A,B)\n",
        "print(equal)\n",
        "\n",
        "equal = np.array_equal(A,B)\n",
        "print(equal)"
      ]
    },
    {
      "cell_type": "markdown",
      "metadata": {
        "id": "phLxx75-YLC9"
      },
      "source": [
        "#### 43. Make an array immutable (read-only) (★★☆) \n",
        "(**hint**: flags.writeable)"
      ]
    },
    {
      "cell_type": "code",
      "execution_count": 42,
      "metadata": {
        "id": "3DNmPtRRYLC-"
      },
      "outputs": [],
      "source": [
        "\n",
        "x = np.zeros(10)\n",
        "x.flags.writeable = False\n",
        "#x[0] = 1    will give the error: assignment destination is read-only"
      ]
    },
    {
      "cell_type": "markdown",
      "metadata": {
        "id": "Iq0GXx2IYLC-"
      },
      "source": [
        "#### 44. Consider a random 10x2 matrix representing cartesian coordinates, convert them to polar coordinates (★★☆) \n",
        "(**hint**: np.sqrt, np.arctan2)"
      ]
    },
    {
      "cell_type": "code",
      "execution_count": 43,
      "metadata": {
        "id": "Nj7Jef9CYLC-",
        "colab": {
          "base_uri": "https://localhost:8080/"
        },
        "outputId": "7035229e-5207-473b-d34f-53ea224f27dc"
      },
      "outputs": [
        {
          "output_type": "stream",
          "name": "stdout",
          "text": [
            "[0.41442244 0.83274964 0.17418519 1.18491994 0.58625401 0.82229663\n",
            " 0.44309502 0.53333151 0.26030351 0.50109345]\n",
            "[0.73518401 0.6119003  1.02445752 0.84006845 0.73247729 1.18762647\n",
            " 0.86524375 0.28838672 1.268409   0.13512213]\n"
          ]
        }
      ],
      "source": [
        "aray = np.random.random((10,2))\n",
        "X,Y = aray[:,0], aray[:,1]\n",
        "R = np.sqrt(X**2+Y**2)\n",
        "T = np.arctan2(Y,X)\n",
        "print(R)\n",
        "print(T)"
      ]
    },
    {
      "cell_type": "markdown",
      "metadata": {
        "id": "3ghqw0s2YLC-"
      },
      "source": [
        "#### 45. Create random vector of size 10 and replace the maximum value by 0 (★★☆) \n",
        "(**hint**: argmax)"
      ]
    },
    {
      "cell_type": "code",
      "execution_count": 44,
      "metadata": {
        "id": "wedPGR8FYLC-",
        "colab": {
          "base_uri": "https://localhost:8080/"
        },
        "outputId": "19a5d3ed-ba3c-46e4-cc2c-52a8d3b7e4f4"
      },
      "outputs": [
        {
          "output_type": "stream",
          "name": "stdout",
          "text": [
            "[0.30847106 0.29137874 0.         0.63932015 0.07171098 0.25466463\n",
            " 0.56921999 0.6578322  0.56429055 0.49836156]\n"
          ]
        }
      ],
      "source": [
        "x = np.random.random(10)\n",
        "x[x.argmax()] = 0\n",
        "print(x)"
      ]
    },
    {
      "cell_type": "markdown",
      "metadata": {
        "id": "cyoT_WzpYLC_"
      },
      "source": [
        "#### 46. Create a structured array with `x` and `y` coordinates covering the \\[0,1\\]x\\[0,1\\] area (★★☆) \n",
        "(**hint**: np.meshgrid)"
      ]
    },
    {
      "cell_type": "code",
      "execution_count": 45,
      "metadata": {
        "id": "OD8rj_jIYLC_",
        "colab": {
          "base_uri": "https://localhost:8080/"
        },
        "outputId": "562dd2c4-1982-4c11-fe24-b759c63a8e18"
      },
      "outputs": [
        {
          "output_type": "stream",
          "name": "stdout",
          "text": [
            "[[(0.  , 0.  ) (0.25, 0.  ) (0.5 , 0.  ) (0.75, 0.  ) (1.  , 0.  )]\n",
            " [(0.  , 0.25) (0.25, 0.25) (0.5 , 0.25) (0.75, 0.25) (1.  , 0.25)]\n",
            " [(0.  , 0.5 ) (0.25, 0.5 ) (0.5 , 0.5 ) (0.75, 0.5 ) (1.  , 0.5 )]\n",
            " [(0.  , 0.75) (0.25, 0.75) (0.5 , 0.75) (0.75, 0.75) (1.  , 0.75)]\n",
            " [(0.  , 1.  ) (0.25, 1.  ) (0.5 , 1.  ) (0.75, 1.  ) (1.  , 1.  )]]\n"
          ]
        }
      ],
      "source": [
        "Z = np.zeros((5,5), [('x',float),('y',float)])\n",
        "Z['x'], Z['y'] = np.meshgrid(np.linspace(0,1,5),\n",
        "                             np.linspace(0,1,5))\n",
        "print(Z)"
      ]
    },
    {
      "cell_type": "markdown",
      "metadata": {
        "id": "yaP0G1enYLC_"
      },
      "source": [
        "####  47. Given two arrays, X and Y, construct the Cauchy matrix C (Cij =1/(xi - yj)) \n",
        "(**hint**: np.subtract.outer)"
      ]
    },
    {
      "cell_type": "code",
      "execution_count": 46,
      "metadata": {
        "id": "JdUvo0pIYLDA",
        "colab": {
          "base_uri": "https://localhost:8080/"
        },
        "outputId": "e507d83c-2d9a-464d-e015-2a4d89194f97"
      },
      "outputs": [
        {
          "output_type": "stream",
          "name": "stdout",
          "text": [
            "3638.163637117973\n"
          ]
        }
      ],
      "source": [
        "X = np.arange(8)\n",
        "Y = X + 0.5\n",
        "C = 1.0 / np.subtract.outer(X, Y)\n",
        "print(np.linalg.det(C))"
      ]
    },
    {
      "cell_type": "markdown",
      "metadata": {
        "id": "TziR6tXfYLDA"
      },
      "source": [
        "#### 48. Print the minimum and maximum representable value for each numpy scalar type (★★☆) \n",
        "(**hint**: np.iinfo, np.finfo, eps)"
      ]
    },
    {
      "cell_type": "code",
      "execution_count": 47,
      "metadata": {
        "id": "D-u6baKzYLDA",
        "colab": {
          "base_uri": "https://localhost:8080/"
        },
        "outputId": "1bb51dcc-0e94-4bd8-d329-0810d7eedd60"
      },
      "outputs": [
        {
          "output_type": "stream",
          "name": "stdout",
          "text": [
            "-128\n",
            "127\n",
            "-2147483648\n",
            "2147483647\n",
            "-9223372036854775808\n",
            "9223372036854775807\n",
            "-3.4028235e+38\n",
            "3.4028235e+38\n",
            "1.1920929e-07\n",
            "-1.7976931348623157e+308\n",
            "1.7976931348623157e+308\n",
            "2.220446049250313e-16\n"
          ]
        }
      ],
      "source": [
        "for dtype in [np.int8, np.int32, np.int64]:\n",
        "   print(np.iinfo(dtype).min)\n",
        "   print(np.iinfo(dtype).max)\n",
        "for dtype in [np.float32, np.float64]:\n",
        "   print(np.finfo(dtype).min)\n",
        "   print(np.finfo(dtype).max)\n",
        "   print(np.finfo(dtype).eps)"
      ]
    },
    {
      "cell_type": "markdown",
      "metadata": {
        "id": "ZgmUVkFBYLDA"
      },
      "source": [
        "#### 49. How to print all the values of an array? (★★☆) \n",
        "(**hint**: np.set\\_printoptions)"
      ]
    },
    {
      "cell_type": "code",
      "execution_count": 48,
      "metadata": {
        "id": "UnF0gw7oYLDA",
        "colab": {
          "base_uri": "https://localhost:8080/"
        },
        "outputId": "fa0260bf-7430-4f5f-88c8-a14e56e33cb9"
      },
      "outputs": [
        {
          "output_type": "stream",
          "name": "stdout",
          "text": [
            "[[0. 0. 0. 0. 0.]\n",
            " [0. 0. 0. 0. 0.]\n",
            " [0. 0. 0. 0. 0.]\n",
            " [0. 0. 0. 0. 0.]\n",
            " [0. 0. 0. 0. 0.]]\n"
          ]
        }
      ],
      "source": [
        "np.set_printoptions(threshold=np.inf, linewidth=np.nan)\n",
        "x = np.zeros((5,5))\n",
        "print(x)"
      ]
    },
    {
      "cell_type": "markdown",
      "metadata": {
        "id": "i1qrundHYLDA"
      },
      "source": [
        "#### 50. How to find the closest value (to a given scalar) in a vector? (★★☆) \n",
        "(**hint**: argmin)"
      ]
    },
    {
      "cell_type": "code",
      "execution_count": 49,
      "metadata": {
        "id": "LXt_VNT6YLDB",
        "colab": {
          "base_uri": "https://localhost:8080/"
        },
        "outputId": "b05bf925-762c-4759-a573-08d4ba94507f"
      },
      "outputs": [
        {
          "output_type": "stream",
          "name": "stdout",
          "text": [
            "18\n"
          ]
        }
      ],
      "source": [
        "Z = np.arange(100)\n",
        "v = np.random.uniform(0,100)\n",
        "index = (np.abs(Z-v)).argmin()\n",
        "print(Z[index])"
      ]
    },
    {
      "cell_type": "markdown",
      "metadata": {
        "id": "MBAogwqoYLDB"
      },
      "source": [
        "#### 51. Create a structured array representing a position (x,y) and a color (r,g,b) (★★☆) \n",
        "(**hint**: dtype)"
      ]
    },
    {
      "cell_type": "code",
      "execution_count": 50,
      "metadata": {
        "id": "0Od5FVypYLDB",
        "colab": {
          "base_uri": "https://localhost:8080/"
        },
        "outputId": "5dcfb584-5ad3-4f05-8b9d-2bd478b9f240"
      },
      "outputs": [
        {
          "output_type": "stream",
          "name": "stdout",
          "text": [
            "[((0., 0.), (0., 0., 0.)) ((0., 0.), (0., 0., 0.)) ((0., 0.), (0., 0., 0.)) ((0., 0.), (0., 0., 0.)) ((0., 0.), (0., 0., 0.)) ((0., 0.), (0., 0., 0.)) ((0., 0.), (0., 0., 0.)) ((0., 0.), (0., 0., 0.)) ((0., 0.), (0., 0., 0.)) ((0., 0.), (0., 0., 0.))]\n"
          ]
        },
        {
          "output_type": "stream",
          "name": "stderr",
          "text": [
            "/usr/local/lib/python3.7/dist-packages/ipykernel_launcher.py:5: FutureWarning: Passing (type, 1) or '1type' as a synonym of type is deprecated; in a future version of numpy, it will be understood as (type, (1,)) / '(1,)type'.\n",
            "  \"\"\"\n"
          ]
        }
      ],
      "source": [
        "aray = np.zeros(10, [ ('position', [ ('x', float, 1),\n",
        "                                  ('y', float, 1)]),\n",
        "                   ('color',    [ ('r', float, 1),\n",
        "                                  ('g', float, 1),\n",
        "                                  ('b', float, 1)])])\n",
        "print(aray)"
      ]
    },
    {
      "cell_type": "markdown",
      "metadata": {
        "id": "2Xqaz3pZYLDB"
      },
      "source": [
        "#### 52. Consider a random vector with shape (100,2) representing coordinates, find point by point distances (★★☆) \n",
        "(**hint**: np.atleast\\_2d, T, np.sqrt)"
      ]
    },
    {
      "cell_type": "code",
      "execution_count": 51,
      "metadata": {
        "id": "PAd-j7H2YLDC",
        "colab": {
          "base_uri": "https://localhost:8080/"
        },
        "outputId": "87898155-2c4b-4bec-a889-4ca8b2f1f9d6"
      },
      "outputs": [
        {
          "output_type": "stream",
          "name": "stdout",
          "text": [
            "[[0.         0.46056006 0.37055613 0.33830072 0.41061073 0.85513236 0.48061996 0.39811971 0.8024267  0.40597839]\n",
            " [0.46056006 0.         0.62635992 0.44899368 0.18432635 0.71323943 0.25929773 0.28707392 0.76824354 0.51869102]\n",
            " [0.37055613 0.62635992 0.         0.19116211 0.67938319 0.62304403 0.46863632 0.7113038  0.50752004 0.16505976]\n",
            " [0.33830072 0.44899368 0.19116211 0.         0.53156575 0.52501666 0.27808683 0.58363724 0.46471199 0.08095895]\n",
            " [0.41061073 0.18432635 0.67938319 0.53156575 0.         0.88233601 0.41913222 0.10387579 0.91697193 0.61052355]\n",
            " [0.85513236 0.71323943 0.62304403 0.52501666 0.88233601 0.         0.46363424 0.97241289 0.1867336  0.48073148]\n",
            " [0.48061996 0.25929773 0.46863632 0.27808683 0.41913222 0.46363424 0.         0.50908186 0.50903988 0.32063663]\n",
            " [0.39811971 0.28707392 0.7113038  0.58363724 0.10387579 0.97241289 0.50908186 0.         0.99521768 0.66438273]\n",
            " [0.8024267  0.76824354 0.50752004 0.46471199 0.91697193 0.1867336  0.50903988 0.99521768 0.         0.39876257]\n",
            " [0.40597839 0.51869102 0.16505976 0.08095895 0.61052355 0.48073148 0.32063663 0.66438273 0.39876257 0.        ]]\n"
          ]
        }
      ],
      "source": [
        "aray = np.random.random((10,2))\n",
        "X,Y = np.atleast_2d(aray[:,0], aray[:,1])\n",
        "D = np.sqrt( (X-X.T)**2 + (Y-Y.T)**2)\n",
        "print(D)"
      ]
    },
    {
      "cell_type": "markdown",
      "metadata": {
        "id": "opQChAtCYLDC"
      },
      "source": [
        "#### 53. How to convert a float (32 bits) array into an integer (32 bits) in place? \n",
        "(**hint**: astype(copy=False))"
      ]
    },
    {
      "cell_type": "code",
      "execution_count": 52,
      "metadata": {
        "id": "9HfeMnvvYLDC",
        "colab": {
          "base_uri": "https://localhost:8080/"
        },
        "outputId": "e22589c6-a08d-4be8-aaae-40a1b5ae601c"
      },
      "outputs": [
        {
          "output_type": "stream",
          "name": "stdout",
          "text": [
            "[0. 1. 2. 3. 4. 5. 6. 7. 8. 9.]\n"
          ]
        }
      ],
      "source": [
        "aray = np.arange(10, dtype=np.int32)\n",
        "aray = aray.astype(np.float32, copy=False)\n",
        "print(aray)"
      ]
    },
    {
      "cell_type": "markdown",
      "metadata": {
        "id": "anA87XTmYLDC"
      },
      "source": [
        "#### 54. How to read the following file? (★★☆) \n",
        "(**hint**: np.genfromtxt)"
      ]
    },
    {
      "cell_type": "markdown",
      "metadata": {
        "id": "WxPQW4DDYLDD"
      },
      "source": [
        "```\n",
        "1, 2, 3, 4, 5\n",
        "6,  ,  , 7, 8\n",
        " ,  , 9,10,11\n",
        "```"
      ]
    },
    {
      "cell_type": "code",
      "execution_count": 53,
      "metadata": {
        "id": "UsWUjoBqYLDD",
        "colab": {
          "base_uri": "https://localhost:8080/"
        },
        "outputId": "91935296-399e-4473-a9a5-b3ec72b951e0"
      },
      "outputs": [
        {
          "output_type": "stream",
          "name": "stdout",
          "text": [
            "[[ 1  2  3  4  5]\n",
            " [ 6 -1 -1  7  8]\n",
            " [-1 -1  9 10 11]]\n"
          ]
        },
        {
          "output_type": "stream",
          "name": "stderr",
          "text": [
            "/usr/local/lib/python3.7/dist-packages/ipykernel_launcher.py:5: DeprecationWarning: `np.int` is a deprecated alias for the builtin `int`. To silence this warning, use `int` by itself. Doing this will not modify any behavior and is safe. When replacing `np.int`, you may wish to use e.g. `np.int64` or `np.int32` to specify the precision. If you wish to review your current use, check the release note link for additional information.\n",
            "Deprecated in NumPy 1.20; for more details and guidance: https://numpy.org/devdocs/release/1.20.0-notes.html#deprecations\n",
            "  \"\"\"\n"
          ]
        }
      ],
      "source": [
        "from io import StringIO\n",
        "string = StringIO(\"\"\"1, 2, 3, 4, 5\\n\n",
        "                6,  ,  , 7, 8\\n\n",
        "                 ,  , 9,10,11\\n\"\"\")\n",
        "out = np.genfromtxt(string, delimiter=\",\", dtype=np.int)\n",
        "print(out)"
      ]
    },
    {
      "cell_type": "markdown",
      "metadata": {
        "id": "Jwpx84wCYLDD"
      },
      "source": [
        "#### 55. What is the equivalent of enumerate for numpy arrays? (★★☆) \n",
        "(**hint**: np.ndenumerate, np.ndindex)"
      ]
    },
    {
      "cell_type": "code",
      "execution_count": 54,
      "metadata": {
        "id": "36yBcgmoYLDD",
        "colab": {
          "base_uri": "https://localhost:8080/"
        },
        "outputId": "7a488b4e-7ff4-4f9b-a7ef-8f2ec1a8d2ae"
      },
      "outputs": [
        {
          "output_type": "stream",
          "name": "stdout",
          "text": [
            "(0, 0) 0\n",
            "(0, 1) 1\n",
            "(0, 2) 2\n",
            "(1, 0) 3\n",
            "(1, 1) 4\n",
            "(1, 2) 5\n",
            "(2, 0) 6\n",
            "(2, 1) 7\n",
            "(2, 2) 8\n",
            "(0, 0) 0\n",
            "(0, 1) 1\n",
            "(0, 2) 2\n",
            "(1, 0) 3\n",
            "(1, 1) 4\n",
            "(1, 2) 5\n",
            "(2, 0) 6\n",
            "(2, 1) 7\n",
            "(2, 2) 8\n"
          ]
        }
      ],
      "source": [
        "Z = np.arange(9).reshape(3,3)\n",
        "for index, value in np.ndenumerate(Z):\n",
        "    print(index, value)\n",
        "for index in np.ndindex(Z.shape):\n",
        "    print(index, Z[index])"
      ]
    },
    {
      "cell_type": "markdown",
      "metadata": {
        "id": "mlmcOQFjYLDD"
      },
      "source": [
        "#### 56. Generate a generic 2D Gaussian-like array (★★☆) \n",
        "(**hint**: np.meshgrid, np.exp)"
      ]
    },
    {
      "cell_type": "code",
      "execution_count": 56,
      "metadata": {
        "id": "UQalM_hjYLDE",
        "colab": {
          "base_uri": "https://localhost:8080/"
        },
        "outputId": "7a303248-e21d-41c0-9727-f0558aa7289d"
      },
      "outputs": [
        {
          "output_type": "stream",
          "name": "stdout",
          "text": [
            "[[0.36787944 0.44822088 0.51979489 0.57375342 0.60279818 0.60279818 0.57375342 0.51979489 0.44822088 0.36787944]\n",
            " [0.44822088 0.54610814 0.63331324 0.69905581 0.73444367 0.73444367 0.69905581 0.63331324 0.54610814 0.44822088]\n",
            " [0.51979489 0.63331324 0.73444367 0.81068432 0.85172308 0.85172308 0.81068432 0.73444367 0.63331324 0.51979489]\n",
            " [0.57375342 0.69905581 0.81068432 0.89483932 0.9401382  0.9401382  0.89483932 0.81068432 0.69905581 0.57375342]\n",
            " [0.60279818 0.73444367 0.85172308 0.9401382  0.98773022 0.98773022 0.9401382  0.85172308 0.73444367 0.60279818]\n",
            " [0.60279818 0.73444367 0.85172308 0.9401382  0.98773022 0.98773022 0.9401382  0.85172308 0.73444367 0.60279818]\n",
            " [0.57375342 0.69905581 0.81068432 0.89483932 0.9401382  0.9401382  0.89483932 0.81068432 0.69905581 0.57375342]\n",
            " [0.51979489 0.63331324 0.73444367 0.81068432 0.85172308 0.85172308 0.81068432 0.73444367 0.63331324 0.51979489]\n",
            " [0.44822088 0.54610814 0.63331324 0.69905581 0.73444367 0.73444367 0.69905581 0.63331324 0.54610814 0.44822088]\n",
            " [0.36787944 0.44822088 0.51979489 0.57375342 0.60279818 0.60279818 0.57375342 0.51979489 0.44822088 0.36787944]]\n"
          ]
        }
      ],
      "source": [
        "X, Y = np.meshgrid(np.linspace(-1,1,10), np.linspace(-1,1,10))\n",
        "D = np.sqrt(X*X+Y*Y)\n",
        "sigma, mu = 1.0, 0.0\n",
        "G = np.exp(-( (D-mu)**2 / ( 2.0 * sigma**2 ) ) )\n",
        "print(G)"
      ]
    },
    {
      "cell_type": "markdown",
      "metadata": {
        "id": "3nSu-Q6fYLDE"
      },
      "source": [
        "#### 57. How to randomly place p elements in a 2D array? (★★☆) \n",
        "(**hint**: np.put, np.random.choice)"
      ]
    },
    {
      "cell_type": "code",
      "execution_count": 57,
      "metadata": {
        "id": "bln-cV4DYLDE",
        "colab": {
          "base_uri": "https://localhost:8080/"
        },
        "outputId": "597462e5-4eee-48ea-81b4-76dde16f08a1"
      },
      "outputs": [
        {
          "output_type": "stream",
          "name": "stdout",
          "text": [
            "[[1. 0. 0. 0. 0. 0. 0. 0. 0. 0.]\n",
            " [0. 0. 0. 0. 0. 0. 0. 0. 0. 0.]\n",
            " [0. 0. 0. 0. 0. 0. 0. 0. 0. 0.]\n",
            " [0. 0. 0. 0. 0. 0. 0. 0. 0. 0.]\n",
            " [0. 0. 0. 0. 0. 0. 0. 0. 0. 0.]\n",
            " [0. 0. 0. 0. 0. 0. 0. 0. 0. 0.]\n",
            " [0. 0. 0. 0. 1. 0. 0. 0. 0. 0.]\n",
            " [0. 0. 0. 1. 0. 0. 0. 0. 0. 0.]\n",
            " [0. 0. 0. 0. 0. 0. 0. 0. 0. 0.]\n",
            " [0. 0. 0. 0. 0. 0. 0. 0. 0. 0.]]\n"
          ]
        }
      ],
      "source": [
        "n = 10\n",
        "p = 3\n",
        "aray= np.zeros((n,n))\n",
        "np.put(aray, np.random.choice(range(n*n), p, replace=False),1)\n",
        "print(aray)"
      ]
    },
    {
      "cell_type": "markdown",
      "metadata": {
        "id": "iD2STRogYLDE"
      },
      "source": [
        "#### 58. Subtract the mean of each row of a matrix (★★☆) \n",
        "(**hint**: mean(axis=,keepdims=))"
      ]
    },
    {
      "cell_type": "code",
      "execution_count": 58,
      "metadata": {
        "id": "IkVNzei9YLDF",
        "colab": {
          "base_uri": "https://localhost:8080/"
        },
        "outputId": "46a8dee6-bb54-4f64-82ae-f221bef7ac80"
      },
      "outputs": [
        {
          "output_type": "stream",
          "name": "stdout",
          "text": [
            "[[-0.34968634  0.3374286   0.19285287 -0.35131404 -0.0178528  -0.33512691  0.25544176  0.28193372 -0.11509291  0.10141605]\n",
            " [-0.00808477 -0.3874816   0.49928317  0.00500292  0.42734461 -0.15945935 -0.33361013 -0.20162688  0.47880231 -0.32017028]\n",
            " [-0.13418357  0.36928788 -0.0153392   0.32197567 -0.11650009 -0.11385145 -0.08876868 -0.15116162 -0.06570116 -0.00575777]\n",
            " [ 0.15511131  0.26798051 -0.13085438 -0.1470661  -0.35390901  0.26165126  0.05116213 -0.33236438  0.21338333  0.01490536]\n",
            " [-0.10771932 -0.30795015 -0.22603985  0.32801118 -0.07302497  0.1632948  -0.10482622 -0.17946821  0.41958292  0.08813984]]\n"
          ]
        }
      ],
      "source": [
        "X = np.random.rand(5, 10)\n",
        "Y = X - X.mean(axis=1, keepdims=True)\n",
        "\n",
        "print(Y)"
      ]
    },
    {
      "cell_type": "markdown",
      "metadata": {
        "id": "pT3TXvbRYLDF"
      },
      "source": [
        "#### 59. How to sort an array by the nth column? (★★☆) \n",
        "(**hint**: argsort)"
      ]
    },
    {
      "cell_type": "code",
      "execution_count": 59,
      "metadata": {
        "id": "4dnBOE8SYLDF",
        "colab": {
          "base_uri": "https://localhost:8080/"
        },
        "outputId": "f91876cf-a8d7-44b7-c879-75974b5178ea"
      },
      "outputs": [
        {
          "output_type": "stream",
          "name": "stdout",
          "text": [
            "[[0 0 4]\n",
            " [1 9 0]\n",
            " [1 6 4]]\n",
            "[[0 0 4]\n",
            " [1 6 4]\n",
            " [1 9 0]]\n"
          ]
        }
      ],
      "source": [
        "x = np.random.randint(0,10,(3,3))\n",
        "print(x)\n",
        "print(x[x[:,1].argsort()])"
      ]
    },
    {
      "cell_type": "markdown",
      "metadata": {
        "id": "quWwhc3vYLDF"
      },
      "source": [
        "#### 60. How to tell if a given 2D array has null columns? (★★☆) \n",
        "(**hint**: any, ~)"
      ]
    },
    {
      "cell_type": "code",
      "execution_count": 60,
      "metadata": {
        "id": "0S-onSLMYLDF",
        "colab": {
          "base_uri": "https://localhost:8080/"
        },
        "outputId": "afc3802c-c983-4b1f-e23a-c42b6a7e762e"
      },
      "outputs": [
        {
          "output_type": "stream",
          "name": "stdout",
          "text": [
            "False\n"
          ]
        }
      ],
      "source": [
        "Z = np.random.randint(0,3,(3,10))\n",
        "print((~Z.any(axis=0)).any())"
      ]
    },
    {
      "cell_type": "markdown",
      "metadata": {
        "id": "0HJLPWw7YLDG"
      },
      "source": [
        "#### 61. Find the nearest value from a given value in an array (★★☆) \n",
        "(**hint**: np.abs, argmin, flat)"
      ]
    },
    {
      "cell_type": "code",
      "execution_count": 63,
      "metadata": {
        "id": "FyVKtEK4YLDG",
        "colab": {
          "base_uri": "https://localhost:8080/"
        },
        "outputId": "9732a42e-1b2f-49a9-b90a-c07b87ade0ea"
      },
      "outputs": [
        {
          "output_type": "stream",
          "name": "stdout",
          "text": [
            "0.527266278687798\n"
          ]
        }
      ],
      "source": [
        "aray = np.random.uniform(0,1,10)\n",
        "x = 0.5\n",
        "m = aray.flat[np.abs(aray - x).argmin()]\n",
        "print(m)"
      ]
    },
    {
      "cell_type": "markdown",
      "metadata": {
        "id": "6aCWdX9rYLDG"
      },
      "source": [
        "#### 62. Considering two arrays with shape (1,3) and (3,1), how to compute their sum using an iterator? (★★☆) \n",
        "(**hint**: np.nditer)"
      ]
    },
    {
      "cell_type": "code",
      "execution_count": 64,
      "metadata": {
        "id": "MVm3Lkw2YLDG",
        "colab": {
          "base_uri": "https://localhost:8080/"
        },
        "outputId": "ecf472bb-6558-47ba-f5f4-0acf41ef85bc"
      },
      "outputs": [
        {
          "output_type": "stream",
          "name": "stdout",
          "text": [
            "[[0 1 2]\n",
            " [1 2 3]\n",
            " [2 3 4]]\n"
          ]
        }
      ],
      "source": [
        "A = np.arange(3).reshape(3,1)\n",
        "B = np.arange(3).reshape(1,3)\n",
        "itr = np.nditer([A,B,None])\n",
        "for x,y,z in itr: z[...] = x + y\n",
        "print(itr.operands[2])"
      ]
    },
    {
      "cell_type": "markdown",
      "metadata": {
        "id": "bqTZFhwzYLDH"
      },
      "source": [
        "#### 63. Create an array class that has a name attribute (★★☆) \n",
        "(**hint**: class method)"
      ]
    },
    {
      "cell_type": "code",
      "execution_count": 65,
      "metadata": {
        "id": "aDu5o_rwYLDH",
        "colab": {
          "base_uri": "https://localhost:8080/"
        },
        "outputId": "cff53ed0-cfe1-4cbe-c4b3-a4079116a1c2"
      },
      "outputs": [
        {
          "output_type": "stream",
          "name": "stdout",
          "text": [
            "range_10\n"
          ]
        }
      ],
      "source": [
        "class NamedArray(np.ndarray):\n",
        "    def __new__(cls, array, name=\"no name\"):\n",
        "        obj = np.asarray(array).view(cls)\n",
        "        obj.name = name\n",
        "        return obj\n",
        "    def __array_finalize__(self, obj):\n",
        "        if obj is None: return\n",
        "        self.info = getattr(obj, 'name', \"no name\")\n",
        "\n",
        "aray = NamedArray(np.arange(10), \"range_10\")\n",
        "print (aray.name)"
      ]
    },
    {
      "cell_type": "markdown",
      "metadata": {
        "id": "si8P7_7OYLDH"
      },
      "source": [
        "#### 64. Consider a given vector, how to add 1 to each element indexed by a second vector (be careful with repeated indices)? (★★★) \n",
        "(**hint**: np.bincount | np.add.at)"
      ]
    },
    {
      "cell_type": "code",
      "execution_count": 66,
      "metadata": {
        "id": "zdK2bhAWYLDH",
        "colab": {
          "base_uri": "https://localhost:8080/"
        },
        "outputId": "dc13d499-8243-4557-d231-be9d8d5efba5"
      },
      "outputs": [
        {
          "output_type": "stream",
          "name": "stdout",
          "text": [
            "[2. 5. 2. 1. 6. 3. 1. 3. 2. 5.]\n"
          ]
        }
      ],
      "source": [
        "Z = np.ones(10)\n",
        "I = np.random.randint(0,len(Z),20)\n",
        "Z += np.bincount(I, minlength=len(Z))\n",
        "print(Z)"
      ]
    },
    {
      "cell_type": "markdown",
      "metadata": {
        "id": "Ia0CKtIqYLDH"
      },
      "source": [
        "#### 65. How to accumulate elements of a vector (X) to an array (F) based on an index list (I)? (★★★) \n",
        "(**hint**: np.bincount)"
      ]
    },
    {
      "cell_type": "code",
      "execution_count": 67,
      "metadata": {
        "id": "-m72zf-7YLDI",
        "colab": {
          "base_uri": "https://localhost:8080/"
        },
        "outputId": "6360a74f-497a-44af-f8c6-daa095da5ef9"
      },
      "outputs": [
        {
          "output_type": "stream",
          "name": "stdout",
          "text": [
            "[0. 7. 0. 6. 5. 0. 0. 0. 0. 3.]\n"
          ]
        }
      ],
      "source": [
        "X = [1,2,3,4,5,6]\n",
        "I = [1,3,9,3,4,1]\n",
        "F = np.bincount(I,X)\n",
        "print(F)"
      ]
    },
    {
      "cell_type": "markdown",
      "metadata": {
        "id": "NpEZbWgHYLDI"
      },
      "source": [
        "#### 66. Considering a (w,h,3) image of (dtype=ubyte), compute the number of unique colors (★★★) \n",
        "(**hint**: np.unique)"
      ]
    },
    {
      "cell_type": "code",
      "execution_count": 68,
      "metadata": {
        "id": "5759_nf3YLDI",
        "colab": {
          "base_uri": "https://localhost:8080/"
        },
        "outputId": "12ca0ad9-6bc4-4321-fc59-7cec819b37bc"
      },
      "outputs": [
        {
          "output_type": "stream",
          "name": "stdout",
          "text": [
            "[0 1]\n"
          ]
        }
      ],
      "source": [
        "w,h = 16,16\n",
        "I = np.random.randint(0,2,(h,w,3)).astype(np.ubyte)\n",
        "F = I[...,0]*256*256 + I[...,1]*256 +I[...,2]\n",
        "n = len(np.unique(F))\n",
        "print(np.unique(I))"
      ]
    },
    {
      "cell_type": "markdown",
      "metadata": {
        "id": "0_3sZ2IrYLDI"
      },
      "source": [
        "#### 67. Considering a four dimensions array, how to get sum over the last two axis at once? (★★★) \n",
        "(**hint**: sum(axis=(-2,-1)))"
      ]
    },
    {
      "cell_type": "code",
      "execution_count": 69,
      "metadata": {
        "id": "_71Rrx1LYLDJ",
        "colab": {
          "base_uri": "https://localhost:8080/"
        },
        "outputId": "855ead67-b4e6-435c-d371-5a6051bae289"
      },
      "outputs": [
        {
          "output_type": "stream",
          "name": "stdout",
          "text": [
            "[[47 66 37 56]\n",
            " [49 41 41 39]\n",
            " [55 31 46 42]]\n"
          ]
        }
      ],
      "source": [
        "A = np.random.randint(0,10,(3,4,3,4))\n",
        "sum = A.sum(axis=(-2,-1))\n",
        "\n",
        "print(sum)"
      ]
    },
    {
      "cell_type": "markdown",
      "metadata": {
        "id": "-54hGdXwYLDJ"
      },
      "source": [
        "#### 68. Considering a one-dimensional vector D, how to compute means of subsets of D using a vector S of same size describing subset  indices? (★★★) \n",
        "(**hint**: np.bincount)"
      ]
    },
    {
      "cell_type": "code",
      "execution_count": 70,
      "metadata": {
        "id": "F7qbDbY6YLDJ",
        "colab": {
          "base_uri": "https://localhost:8080/"
        },
        "outputId": "38f7f055-61bf-4b2c-92fc-58094d2350e0"
      },
      "outputs": [
        {
          "output_type": "stream",
          "name": "stdout",
          "text": [
            "[0.42998972 0.49017545 0.45624252 0.50843999 0.51951088 0.54003792 0.55896914 0.56457652 0.46787636 0.36245277]\n"
          ]
        }
      ],
      "source": [
        "D = np.random.uniform(0,1,100)\n",
        "S = np.random.randint(0,10,100)\n",
        "D_sums = np.bincount(S, weights=D)\n",
        "D_counts = np.bincount(S)\n",
        "D_means = D_sums / D_counts\n",
        "print(D_means)"
      ]
    },
    {
      "cell_type": "markdown",
      "metadata": {
        "id": "FFC7sDy7YLDJ"
      },
      "source": [
        "#### 69. How to get the diagonal of a dot product? (★★★) \n",
        "(**hint**: np.diag)"
      ]
    },
    {
      "cell_type": "code",
      "execution_count": 71,
      "metadata": {
        "id": "NGRcnYsoYLDJ",
        "colab": {
          "base_uri": "https://localhost:8080/"
        },
        "outputId": "161f93f4-f3cf-4283-b199-2ec7d2f63d26"
      },
      "outputs": [
        {
          "output_type": "execute_result",
          "data": {
            "text/plain": [
              "array([1.38942654, 1.13618571, 0.56730665, 1.01831311, 0.90922328])"
            ]
          },
          "metadata": {},
          "execution_count": 71
        }
      ],
      "source": [
        "A = np.random.uniform(0,1,(5,5))\n",
        "B = np.random.uniform(0,1,(5,5))\n",
        "\n",
        "np.diag(np.dot(A, B))"
      ]
    },
    {
      "cell_type": "markdown",
      "metadata": {
        "id": "4E4MwQXGYLDK"
      },
      "source": [
        "#### 70. Consider the vector \\[1, 2, 3, 4, 5\\], how to build a new vector with 3 consecutive zeros interleaved between each value? (★★★) \n",
        "(**hint**: array\\[::4\\])"
      ]
    },
    {
      "cell_type": "code",
      "execution_count": 72,
      "metadata": {
        "id": "-VJNWWLHYLDK",
        "colab": {
          "base_uri": "https://localhost:8080/"
        },
        "outputId": "7678c731-d2d2-4c1d-e7de-7a9e3dc22b9c"
      },
      "outputs": [
        {
          "output_type": "stream",
          "name": "stdout",
          "text": [
            "[1. 0. 0. 0. 2. 0. 0. 0. 3. 0. 0. 0. 4. 0. 0. 0. 5.]\n"
          ]
        }
      ],
      "source": [
        "x = np.array([1,2,3,4,5])\n",
        "nx = 3\n",
        "x_new = np.zeros(len(x) + (len(x)-1)*(nx))\n",
        "x_new[::nx+1] = x\n",
        "print(x_new)"
      ]
    },
    {
      "cell_type": "markdown",
      "metadata": {
        "id": "IRr6gDn1YLDK"
      },
      "source": [
        "#### 71. Consider an array of dimension (5,5,3), how to mulitply it by an array with dimensions (5,5)? (★★★) \n",
        "(**hint**: array\\[:, :, None\\])"
      ]
    },
    {
      "cell_type": "code",
      "execution_count": 73,
      "metadata": {
        "collapsed": true,
        "id": "CEMKpA99YLDK",
        "colab": {
          "base_uri": "https://localhost:8080/"
        },
        "outputId": "2642427a-c5ba-46ef-f970-585bf72c6fcb"
      },
      "outputs": [
        {
          "output_type": "stream",
          "name": "stdout",
          "text": [
            "[[[2. 2. 2.]\n",
            "  [2. 2. 2.]\n",
            "  [2. 2. 2.]\n",
            "  [2. 2. 2.]\n",
            "  [2. 2. 2.]]\n",
            "\n",
            " [[2. 2. 2.]\n",
            "  [2. 2. 2.]\n",
            "  [2. 2. 2.]\n",
            "  [2. 2. 2.]\n",
            "  [2. 2. 2.]]\n",
            "\n",
            " [[2. 2. 2.]\n",
            "  [2. 2. 2.]\n",
            "  [2. 2. 2.]\n",
            "  [2. 2. 2.]\n",
            "  [2. 2. 2.]]\n",
            "\n",
            " [[2. 2. 2.]\n",
            "  [2. 2. 2.]\n",
            "  [2. 2. 2.]\n",
            "  [2. 2. 2.]\n",
            "  [2. 2. 2.]]\n",
            "\n",
            " [[2. 2. 2.]\n",
            "  [2. 2. 2.]\n",
            "  [2. 2. 2.]\n",
            "  [2. 2. 2.]\n",
            "  [2. 2. 2.]]]\n"
          ]
        }
      ],
      "source": [
        "A = np.ones((5,5,3))\n",
        "B = 2*np.ones((5,5))\n",
        "print(A * B[:,:,None])"
      ]
    },
    {
      "cell_type": "markdown",
      "metadata": {
        "id": "YhHQ8nH6YLDK"
      },
      "source": [
        "#### 72. How to swap two rows of an array? (★★★) \n",
        "(**hint**: array\\[\\[\\]\\] = array\\[\\[\\]\\])"
      ]
    },
    {
      "cell_type": "code",
      "execution_count": 74,
      "metadata": {
        "id": "ZJvZI2uZYLDL",
        "colab": {
          "base_uri": "https://localhost:8080/"
        },
        "outputId": "23b3fec6-4b58-4871-cd1b-0128e33d97ea"
      },
      "outputs": [
        {
          "output_type": "stream",
          "name": "stdout",
          "text": [
            "[[ 5  6  7  8  9]\n",
            " [ 0  1  2  3  4]\n",
            " [10 11 12 13 14]\n",
            " [15 16 17 18 19]\n",
            " [20 21 22 23 24]]\n"
          ]
        }
      ],
      "source": [
        "A = np.arange(25).reshape(5,5)\n",
        "A[[0,1]] = A[[1,0]]\n",
        "print(A)"
      ]
    },
    {
      "cell_type": "markdown",
      "metadata": {
        "id": "pVTyV7K4YLDL"
      },
      "source": [
        "#### 73. Consider a set of 10 triplets describing 10 triangles (with shared vertices), find the set of unique line segments composing all the  triangles (★★★) \n",
        "(**hint**: repeat, np.roll, np.sort, view, np.unique)"
      ]
    },
    {
      "cell_type": "code",
      "execution_count": 75,
      "metadata": {
        "id": "sPpOatVvYLDM",
        "colab": {
          "base_uri": "https://localhost:8080/"
        },
        "outputId": "fcc85500-2125-4aca-d593-c12bafb1b236"
      },
      "outputs": [
        {
          "output_type": "stream",
          "name": "stdout",
          "text": [
            "[( 1,  3) ( 1,  9) ( 3,  9) ( 3, 80) ( 3, 85) (11, 95) (11, 97) (17, 61) (17, 85) (22, 74) (22, 94) (24, 72) (24, 91) (27, 44) (27, 65) (33, 68) (44, 65) (46, 46) (46, 49) (61, 85) (68, 68) (72, 73) (72, 91) (72, 92) (73, 92) (74, 94) (80, 85) (95, 97)]\n"
          ]
        }
      ],
      "source": [
        "faces = np.random.randint(0,100,(10,3))\n",
        "F = np.roll(faces.repeat(2,axis=1),-1,axis=1)\n",
        "F = F.reshape(len(F)*3,2)\n",
        "F = np.sort(F,axis=1)\n",
        "G = F.view( dtype=[('p0',F.dtype),('p1',F.dtype)] )\n",
        "G = np.unique(G)\n",
        "print(G)"
      ]
    },
    {
      "cell_type": "markdown",
      "metadata": {
        "id": "stZNuJ51YLDM"
      },
      "source": [
        "#### 74. Given an array C that is a bincount, how to produce an array A such that np.bincount(A) == C? (★★★) \n",
        "(**hint**: np.repeat)"
      ]
    },
    {
      "cell_type": "code",
      "execution_count": 76,
      "metadata": {
        "id": "rjyaEIoHYLDM",
        "colab": {
          "base_uri": "https://localhost:8080/"
        },
        "outputId": "ccaec690-80fe-481f-f62b-c4d65e123916"
      },
      "outputs": [
        {
          "output_type": "stream",
          "name": "stdout",
          "text": [
            "[1 1 2 3 4 4 6]\n"
          ]
        }
      ],
      "source": [
        "C = np.bincount([1,1,2,3,4,4,6])\n",
        "A = np.repeat(np.arange(len(C)), C)\n",
        "print(A)"
      ]
    },
    {
      "cell_type": "markdown",
      "metadata": {
        "id": "GSHsMkLGYLDM"
      },
      "source": [
        "#### 75. How to compute averages using a sliding window over an array? (★★★) \n",
        "(**hint**: np.cumsum)"
      ]
    },
    {
      "cell_type": "code",
      "execution_count": 77,
      "metadata": {
        "id": "d6iA1pyDYLDM",
        "colab": {
          "base_uri": "https://localhost:8080/"
        },
        "outputId": "d40de8a6-7bfa-494d-b5b7-d15b0635a479"
      },
      "outputs": [
        {
          "output_type": "stream",
          "name": "stdout",
          "text": [
            "[ 1.  2.  3.  4.  5.  6.  7.  8.  9. 10. 11. 12. 13. 14. 15. 16. 17. 18.]\n"
          ]
        }
      ],
      "source": [
        "def moving_average(a, n=3) :\n",
        "    ret = np.cumsum(a, dtype=float)\n",
        "    ret[n:] = ret[n:] - ret[:-n]\n",
        "    return ret[n - 1:] / n\n",
        "Z = np.arange(20)\n",
        "print(moving_average(Z, n=3))"
      ]
    },
    {
      "cell_type": "markdown",
      "metadata": {
        "id": "Dsv6CSfqYLDN"
      },
      "source": [
        "#### 76. Consider a one-dimensional array Z, build a two-dimensional array whose first row is (Z\\[0\\],Z\\[1\\],Z\\[2\\]) and each subsequent row is  shifted by 1 (last row should be (Z\\[-3\\],Z\\[-2\\],Z\\[-1\\]) (★★★) \n",
        "(**hint**: from numpy.lib import stride_tricks)"
      ]
    },
    {
      "cell_type": "code",
      "execution_count": 78,
      "metadata": {
        "id": "joULA--qYLDN",
        "colab": {
          "base_uri": "https://localhost:8080/"
        },
        "outputId": "918fec5f-e2e4-43be-c060-a8198d3272b1"
      },
      "outputs": [
        {
          "output_type": "stream",
          "name": "stdout",
          "text": [
            "[[0 1 2]\n",
            " [1 2 3]\n",
            " [2 3 4]\n",
            " [3 4 5]\n",
            " [4 5 6]\n",
            " [5 6 7]\n",
            " [6 7 8]\n",
            " [7 8 9]]\n"
          ]
        }
      ],
      "source": [
        "from numpy.lib import stride_tricks\n",
        "\n",
        "def rolling(a, window):\n",
        "    shape = (a.size - window + 1, window)\n",
        "    strides = (a.itemsize, a.itemsize)\n",
        "    return stride_tricks.as_strided(a, shape=shape, strides=strides)\n",
        "Z = rolling(np.arange(10), 3)\n",
        "print(Z)"
      ]
    },
    {
      "cell_type": "markdown",
      "metadata": {
        "id": "vyRRns5OYLDN"
      },
      "source": [
        "#### 77. How to negate a boolean, or to change the sign of a float inplace? (★★★) \n",
        "(**hint**: np.logical_not, np.negative)"
      ]
    },
    {
      "cell_type": "code",
      "execution_count": 79,
      "metadata": {
        "id": "8uh9kVsfYLDO",
        "colab": {
          "base_uri": "https://localhost:8080/"
        },
        "outputId": "0a0732e6-d789-4cd0-fb60-49f5e9c40573"
      },
      "outputs": [
        {
          "output_type": "execute_result",
          "data": {
            "text/plain": [
              "array([ 0.07104617, -0.4327546 ,  0.16516148, -0.71808622,  0.03704216,  0.63240751,  0.54483512, -0.34476388, -0.87303399,  0.65163611, -0.62590763,  0.70467345,  0.98539276,  0.01242176, -0.54495006,  0.88755698,  0.33367913, -0.03461923,  0.85621403, -0.20285528,  0.68381438, -0.65571037, -0.59037349,  0.47473292, -0.86435021, -0.77085956, -0.65422174,  0.51593391, -0.11305702, -0.9037174 ,  0.41627431, -0.81891886, -0.91531248,  0.15061255, -0.62329175,  0.52920397, -0.6425383 , -0.68747107, -0.53748819, -0.53302412, -0.67005303,  0.1074338 ,  0.82779327,  0.41982328,  0.96353698,  0.43838013, -0.12490678, -0.88591375,  0.7067997 ,  0.84467306,  0.94108925,  0.34600857, -0.08922293,  0.27248706,  0.68568706, -0.3074255 ,  0.43019597, -0.38337938,  0.19048888,  0.57152802, -0.35828781,  0.60777293,  0.77174177,  0.80878499, -0.17296011,  0.44246979,  0.54405956,  0.17347277,  0.04068968, -0.99525463, -0.70485789,  0.51369109, -0.08263181, -0.42313417, -0.24143116,  0.02540347,  0.0824347 , -0.427247  , -0.08506112, -0.65671949, -0.96019952, -0.05628809,  0.38708537,  0.94427188,  0.29641124, -0.24258768,  0.87184883,  0.93037617, -0.15298608,  0.64621153, -0.6199436 , -0.61485041,  0.74931207,  0.4958626 , -0.23518616,  0.05342302, -0.55006072, -0.35831963,  0.87921116,  0.86281124])"
            ]
          },
          "metadata": {},
          "execution_count": 79
        }
      ],
      "source": [
        "x = np.random.randint(0,2,100)\n",
        "np.logical_not(x, out=x)\n",
        "\n",
        "x = np.random.uniform(-1.0,1.0,100)\n",
        "np.negative(x, out=x)"
      ]
    },
    {
      "cell_type": "markdown",
      "metadata": {
        "id": "d_UoCrEBYLDO"
      },
      "source": [
        "#### 78. Consider 2 sets of points P0,P1 describing lines (2d) and a point p, how to compute distance from p to each line i  (P0\\[i\\],P1\\[i\\])? (★★★)"
      ]
    },
    {
      "cell_type": "code",
      "execution_count": 81,
      "metadata": {
        "id": "DQm4GcBpYLDO",
        "colab": {
          "base_uri": "https://localhost:8080/"
        },
        "outputId": "2bd41ab5-f5fb-448c-93e3-52ab63bdf069"
      },
      "outputs": [
        {
          "output_type": "stream",
          "name": "stdout",
          "text": [
            "[ 0.36190795 11.61589225 10.96735875  2.64705845  9.8607118   3.620763    2.18272328  5.32696458  1.57599519  3.76304175]\n"
          ]
        }
      ],
      "source": [
        "def distance(P0, P1, p):\n",
        "    T = P1 - P0\n",
        "    L = (T**2).sum(axis=1)\n",
        "    U = -((P0[:,0]-p[...,0])*T[:,0] + (P0[:,1]-p[...,1])*T[:,1]) / L\n",
        "    U = U.reshape(len(U),1)\n",
        "    D = P0 + U*T - p\n",
        "    return np.sqrt((D**2).sum(axis=1))\n",
        "\n",
        "P0 = np.random.uniform(-10,10,(10,2))\n",
        "P1 = np.random.uniform(-10,10,(10,2))\n",
        "p  = np.random.uniform(-10,10,( 1,2))\n",
        "print(distance(P0, P1, p))"
      ]
    },
    {
      "cell_type": "markdown",
      "metadata": {
        "id": "XUA6TKwjYLDO"
      },
      "source": [
        "#### 79. Consider 2 sets of points P0,P1 describing lines (2d) and a set of points P, how to compute distance from each point j (P\\[j\\]) to each line i (P0\\[i\\],P1\\[i\\])? (★★★)"
      ]
    },
    {
      "cell_type": "code",
      "execution_count": 82,
      "metadata": {
        "id": "qKw_b218YLDP",
        "colab": {
          "base_uri": "https://localhost:8080/"
        },
        "outputId": "dd8cad49-93f3-4220-c912-800624bf7e68"
      },
      "outputs": [
        {
          "output_type": "stream",
          "name": "stdout",
          "text": [
            "[[10.54982712  3.32355576  1.98173851  8.11443205  7.57458821  8.81625184  1.84210929  4.58769735  7.41008107 11.90766577]\n",
            " [ 6.13388907  1.22350252  4.62685614  0.88636786  7.44333619  3.75248026  7.28386461  0.41052736  5.87485421  4.85445884]\n",
            " [ 5.14325172  2.07819616  1.72647203  2.31513643  4.78934471  3.13295538  4.05426559  0.70586161  3.64773973  5.95975193]\n",
            " [ 8.28669182  7.45792758  5.15106655  8.9728397   3.58138433  6.99362885  2.0261183   2.17869995  3.80702524 12.31313803]\n",
            " [ 2.10488336 13.45416888  6.53236566  3.74793733  6.86698243  2.92723681  6.41382304  8.34376063  7.07921954  6.09847169]\n",
            " [ 1.05012033  4.8111291  10.56448213  6.27230604  6.29197544  1.8802702  11.85247964  4.46670395  3.38991821  2.24114551]\n",
            " [ 3.6117625   8.6609567   4.25679155  5.56744194  0.21147724  2.35186553  2.4610284   2.49310125  0.43936737  8.58789726]\n",
            " [ 8.84528558  3.0284335   0.91152818  6.35489486  6.63726565  7.03611957  2.43913381  2.91474113  6.18144378 10.09309038]\n",
            " [ 2.10615458  6.39715766 11.69534166  6.43065315  7.9468987   0.98878143 13.30410648  3.35684546  4.92169448  2.21694236]\n",
            " [ 1.93014224  8.5118871   3.34506718  3.93184737  1.22248143  0.61264985  2.01834451  4.14945617  1.71338002  6.88608023]]\n"
          ]
        }
      ],
      "source": [
        "P0 = np.random.uniform(-10, 10, (10,2))\n",
        "P1 = np.random.uniform(-10,10,(10,2))\n",
        "p = np.random.uniform(-10, 10, (10,2))\n",
        "print(np.array([distance(P0,P1,p_i) for p_i in p]))"
      ]
    },
    {
      "cell_type": "markdown",
      "metadata": {
        "id": "EYX_8q3oYLDP"
      },
      "source": [
        "#### 80. Consider an arbitrary array, write a function that extract a subpart with a fixed shape and centered on a given element (pad with a `fill` value when necessary) (★★★) \n",
        "(**hint**: minimum, maximum)"
      ]
    },
    {
      "cell_type": "code",
      "execution_count": 83,
      "metadata": {
        "id": "SwUGqlLXYLDP",
        "colab": {
          "base_uri": "https://localhost:8080/"
        },
        "outputId": "71c5ef7a-7ef0-4c6e-a8e1-f01fd6e1b600"
      },
      "outputs": [
        {
          "output_type": "stream",
          "name": "stdout",
          "text": [
            "[[0 8 0 0 4 0 3 2 7 1]\n",
            " [0 5 9 3 1 9 9 0 9 0]\n",
            " [7 5 0 7 7 5 5 3 8 3]\n",
            " [3 6 4 4 2 7 2 5 6 1]\n",
            " [1 1 3 9 8 3 6 9 3 8]\n",
            " [6 6 5 1 1 6 2 1 1 5]\n",
            " [2 6 7 7 6 8 8 4 9 0]\n",
            " [1 7 4 0 2 9 1 4 9 7]\n",
            " [9 9 4 2 6 0 6 1 2 2]\n",
            " [2 1 1 3 2 0 3 7 0 3]]\n",
            "[[0 0 0 0 0]\n",
            " [0 0 8 0 0]\n",
            " [0 0 5 9 3]\n",
            " [0 7 5 0 7]\n",
            " [0 3 6 4 4]]\n"
          ]
        },
        {
          "output_type": "stream",
          "name": "stderr",
          "text": [
            "/usr/local/lib/python3.7/dist-packages/ipykernel_launcher.py:23: FutureWarning: Using a non-tuple sequence for multidimensional indexing is deprecated; use `arr[tuple(seq)]` instead of `arr[seq]`. In the future this will be interpreted as an array index, `arr[np.array(seq)]`, which will result either in an error or a different result.\n"
          ]
        }
      ],
      "source": [
        "Z = np.random.randint(0,10,(10,10))\n",
        "shape = (5,5)\n",
        "fill  = 0\n",
        "position = (1,1)\n",
        "\n",
        "R = np.ones(shape, dtype=Z.dtype)*fill\n",
        "P  = np.array(list(position)).astype(int)\n",
        "Rs = np.array(list(R.shape)).astype(int)\n",
        "Zs = np.array(list(Z.shape)).astype(int)\n",
        "\n",
        "R_start = np.zeros((len(shape),)).astype(int)\n",
        "R_stop  = np.array(list(shape)).astype(int)\n",
        "Z_start = (P-Rs//2)\n",
        "Z_stop  = (P+Rs//2)+Rs%2\n",
        "\n",
        "R_start = (R_start - np.minimum(Z_start,0)).tolist()\n",
        "Z_start = (np.maximum(Z_start,0)).tolist()\n",
        "R_stop = np.maximum(R_start, (R_stop - np.maximum(Z_stop-Zs,0))).tolist()\n",
        "Z_stop = (np.minimum(Z_stop,Zs)).tolist()\n",
        "\n",
        "r = [slice(start,stop) for start,stop in zip(R_start,R_stop)]\n",
        "z = [slice(start,stop) for start,stop in zip(Z_start,Z_stop)]\n",
        "R[r] = Z[z]\n",
        "print(Z)\n",
        "print(R)"
      ]
    },
    {
      "cell_type": "markdown",
      "metadata": {
        "id": "ub8vzz5kYLDP"
      },
      "source": [
        "#### 81. Consider an array Z = \\[1,2,3,4,5,6,7,8,9,10,11,12,13,14\\], how to generate an array R = \\[\\[1,2,3,4\\], \\[2,3,4,5\\], \\[3,4,5,6\\], ..., \\[11,12,13,14\\]\\]? (★★★) \n",
        "(**hint**: stride\\_tricks.as\\_strided)"
      ]
    },
    {
      "cell_type": "code",
      "execution_count": 84,
      "metadata": {
        "id": "bByVd9PDYLDQ",
        "colab": {
          "base_uri": "https://localhost:8080/"
        },
        "outputId": "974893bf-45d8-45ad-d062-70ce932fa397"
      },
      "outputs": [
        {
          "output_type": "stream",
          "name": "stdout",
          "text": [
            "[[ 1  2  3  4]\n",
            " [ 2  3  4  5]\n",
            " [ 3  4  5  6]\n",
            " [ 4  5  6  7]\n",
            " [ 5  6  7  8]\n",
            " [ 6  7  8  9]\n",
            " [ 7  8  9 10]\n",
            " [ 8  9 10 11]\n",
            " [ 9 10 11 12]\n",
            " [10 11 12 13]\n",
            " [11 12 13 14]]\n"
          ]
        }
      ],
      "source": [
        "Z = np.arange(1,15,dtype=np.uint32)\n",
        "R = stride_tricks.as_strided(Z,(11,4),(4,4))\n",
        "print(R)"
      ]
    },
    {
      "cell_type": "markdown",
      "metadata": {
        "id": "S_YlOISUYLDQ"
      },
      "source": [
        "#### 82. Compute a matrix rank (★★★) \n",
        "(**hint**: np.linalg.svd) (suggestion: np.linalg.svd)"
      ]
    },
    {
      "cell_type": "code",
      "execution_count": 85,
      "metadata": {
        "id": "4Q0dXir6YLDR",
        "colab": {
          "base_uri": "https://localhost:8080/"
        },
        "outputId": "15ff98b1-d27b-4842-97f7-02f14b2f0c3a"
      },
      "outputs": [
        {
          "output_type": "stream",
          "name": "stdout",
          "text": [
            "10\n"
          ]
        }
      ],
      "source": [
        "Z = np.random.uniform(0,1,(10,10))\n",
        "U, S, V = np.linalg.svd(Z) # Singular Value Decomposition\n",
        "rank = np.sum(S > 1e-10)\n",
        "print(rank)"
      ]
    },
    {
      "cell_type": "markdown",
      "metadata": {
        "id": "401NHMbWYLDR"
      },
      "source": [
        "#### 83. How to find the most frequent value in an array? \n",
        "(**hint**: np.bincount, argmax)"
      ]
    },
    {
      "cell_type": "code",
      "execution_count": 86,
      "metadata": {
        "id": "Ea1YSM4xYLDS",
        "colab": {
          "base_uri": "https://localhost:8080/"
        },
        "outputId": "06e6ec4e-54f1-48ae-ed55-4516998288e7"
      },
      "outputs": [
        {
          "output_type": "stream",
          "name": "stdout",
          "text": [
            "8\n"
          ]
        }
      ],
      "source": [
        "aray = np.random.randint(0,10,50)\n",
        "print(np.bincount(aray).argmax())"
      ]
    },
    {
      "cell_type": "markdown",
      "metadata": {
        "id": "FMVFcCDfYLDS"
      },
      "source": [
        "#### 84. Extract all the contiguous 3x3 blocks from a random 10x10 matrix (★★★) \n",
        "(**hint**: stride\\_tricks.as\\_strided)"
      ]
    },
    {
      "cell_type": "code",
      "execution_count": 87,
      "metadata": {
        "id": "-DB9msDpYLDS",
        "colab": {
          "base_uri": "https://localhost:8080/"
        },
        "outputId": "d083ac0d-6139-4ff3-9185-f807ccdb00b2"
      },
      "outputs": [
        {
          "output_type": "stream",
          "name": "stdout",
          "text": [
            "[[[[0 4 3]\n",
            "   [3 3 2]\n",
            "   [0 0 3]]\n",
            "\n",
            "  [[4 3 1]\n",
            "   [3 2 0]\n",
            "   [0 3 1]]\n",
            "\n",
            "  [[3 1 1]\n",
            "   [2 0 4]\n",
            "   [3 1 4]]\n",
            "\n",
            "  [[1 1 2]\n",
            "   [0 4 3]\n",
            "   [1 4 1]]\n",
            "\n",
            "  [[1 2 0]\n",
            "   [4 3 0]\n",
            "   [4 1 4]]\n",
            "\n",
            "  [[2 0 0]\n",
            "   [3 0 3]\n",
            "   [1 4 1]]\n",
            "\n",
            "  [[0 0 4]\n",
            "   [0 3 3]\n",
            "   [4 1 2]]\n",
            "\n",
            "  [[0 4 4]\n",
            "   [3 3 3]\n",
            "   [1 2 2]]]\n",
            "\n",
            "\n",
            " [[[3 3 2]\n",
            "   [0 0 3]\n",
            "   [0 1 1]]\n",
            "\n",
            "  [[3 2 0]\n",
            "   [0 3 1]\n",
            "   [1 1 1]]\n",
            "\n",
            "  [[2 0 4]\n",
            "   [3 1 4]\n",
            "   [1 1 4]]\n",
            "\n",
            "  [[0 4 3]\n",
            "   [1 4 1]\n",
            "   [1 4 2]]\n",
            "\n",
            "  [[4 3 0]\n",
            "   [4 1 4]\n",
            "   [4 2 2]]\n",
            "\n",
            "  [[3 0 3]\n",
            "   [1 4 1]\n",
            "   [2 2 3]]\n",
            "\n",
            "  [[0 3 3]\n",
            "   [4 1 2]\n",
            "   [2 3 1]]\n",
            "\n",
            "  [[3 3 3]\n",
            "   [1 2 2]\n",
            "   [3 1 0]]]\n",
            "\n",
            "\n",
            " [[[0 0 3]\n",
            "   [0 1 1]\n",
            "   [0 3 4]]\n",
            "\n",
            "  [[0 3 1]\n",
            "   [1 1 1]\n",
            "   [3 4 2]]\n",
            "\n",
            "  [[3 1 4]\n",
            "   [1 1 4]\n",
            "   [4 2 1]]\n",
            "\n",
            "  [[1 4 1]\n",
            "   [1 4 2]\n",
            "   [2 1 4]]\n",
            "\n",
            "  [[4 1 4]\n",
            "   [4 2 2]\n",
            "   [1 4 3]]\n",
            "\n",
            "  [[1 4 1]\n",
            "   [2 2 3]\n",
            "   [4 3 3]]\n",
            "\n",
            "  [[4 1 2]\n",
            "   [2 3 1]\n",
            "   [3 3 2]]\n",
            "\n",
            "  [[1 2 2]\n",
            "   [3 1 0]\n",
            "   [3 2 1]]]\n",
            "\n",
            "\n",
            " [[[0 1 1]\n",
            "   [0 3 4]\n",
            "   [3 2 0]]\n",
            "\n",
            "  [[1 1 1]\n",
            "   [3 4 2]\n",
            "   [2 0 3]]\n",
            "\n",
            "  [[1 1 4]\n",
            "   [4 2 1]\n",
            "   [0 3 3]]\n",
            "\n",
            "  [[1 4 2]\n",
            "   [2 1 4]\n",
            "   [3 3 0]]\n",
            "\n",
            "  [[4 2 2]\n",
            "   [1 4 3]\n",
            "   [3 0 0]]\n",
            "\n",
            "  [[2 2 3]\n",
            "   [4 3 3]\n",
            "   [0 0 3]]\n",
            "\n",
            "  [[2 3 1]\n",
            "   [3 3 2]\n",
            "   [0 3 1]]\n",
            "\n",
            "  [[3 1 0]\n",
            "   [3 2 1]\n",
            "   [3 1 0]]]\n",
            "\n",
            "\n",
            " [[[0 3 4]\n",
            "   [3 2 0]\n",
            "   [1 0 2]]\n",
            "\n",
            "  [[3 4 2]\n",
            "   [2 0 3]\n",
            "   [0 2 4]]\n",
            "\n",
            "  [[4 2 1]\n",
            "   [0 3 3]\n",
            "   [2 4 3]]\n",
            "\n",
            "  [[2 1 4]\n",
            "   [3 3 0]\n",
            "   [4 3 1]]\n",
            "\n",
            "  [[1 4 3]\n",
            "   [3 0 0]\n",
            "   [3 1 2]]\n",
            "\n",
            "  [[4 3 3]\n",
            "   [0 0 3]\n",
            "   [1 2 4]]\n",
            "\n",
            "  [[3 3 2]\n",
            "   [0 3 1]\n",
            "   [2 4 1]]\n",
            "\n",
            "  [[3 2 1]\n",
            "   [3 1 0]\n",
            "   [4 1 2]]]\n",
            "\n",
            "\n",
            " [[[3 2 0]\n",
            "   [1 0 2]\n",
            "   [4 1 2]]\n",
            "\n",
            "  [[2 0 3]\n",
            "   [0 2 4]\n",
            "   [1 2 1]]\n",
            "\n",
            "  [[0 3 3]\n",
            "   [2 4 3]\n",
            "   [2 1 1]]\n",
            "\n",
            "  [[3 3 0]\n",
            "   [4 3 1]\n",
            "   [1 1 3]]\n",
            "\n",
            "  [[3 0 0]\n",
            "   [3 1 2]\n",
            "   [1 3 0]]\n",
            "\n",
            "  [[0 0 3]\n",
            "   [1 2 4]\n",
            "   [3 0 3]]\n",
            "\n",
            "  [[0 3 1]\n",
            "   [2 4 1]\n",
            "   [0 3 2]]\n",
            "\n",
            "  [[3 1 0]\n",
            "   [4 1 2]\n",
            "   [3 2 2]]]\n",
            "\n",
            "\n",
            " [[[1 0 2]\n",
            "   [4 1 2]\n",
            "   [3 1 0]]\n",
            "\n",
            "  [[0 2 4]\n",
            "   [1 2 1]\n",
            "   [1 0 1]]\n",
            "\n",
            "  [[2 4 3]\n",
            "   [2 1 1]\n",
            "   [0 1 0]]\n",
            "\n",
            "  [[4 3 1]\n",
            "   [1 1 3]\n",
            "   [1 0 2]]\n",
            "\n",
            "  [[3 1 2]\n",
            "   [1 3 0]\n",
            "   [0 2 4]]\n",
            "\n",
            "  [[1 2 4]\n",
            "   [3 0 3]\n",
            "   [2 4 3]]\n",
            "\n",
            "  [[2 4 1]\n",
            "   [0 3 2]\n",
            "   [4 3 0]]\n",
            "\n",
            "  [[4 1 2]\n",
            "   [3 2 2]\n",
            "   [3 0 0]]]\n",
            "\n",
            "\n",
            " [[[4 1 2]\n",
            "   [3 1 0]\n",
            "   [2 3 2]]\n",
            "\n",
            "  [[1 2 1]\n",
            "   [1 0 1]\n",
            "   [3 2 0]]\n",
            "\n",
            "  [[2 1 1]\n",
            "   [0 1 0]\n",
            "   [2 0 2]]\n",
            "\n",
            "  [[1 1 3]\n",
            "   [1 0 2]\n",
            "   [0 2 4]]\n",
            "\n",
            "  [[1 3 0]\n",
            "   [0 2 4]\n",
            "   [2 4 0]]\n",
            "\n",
            "  [[3 0 3]\n",
            "   [2 4 3]\n",
            "   [4 0 2]]\n",
            "\n",
            "  [[0 3 2]\n",
            "   [4 3 0]\n",
            "   [0 2 0]]\n",
            "\n",
            "  [[3 2 2]\n",
            "   [3 0 0]\n",
            "   [2 0 2]]]]\n"
          ]
        }
      ],
      "source": [
        "Z = np.random.randint(0,5,(10,10))\n",
        "n = 3\n",
        "i = 1 + (Z.shape[0]-3)\n",
        "j = 1 + (Z.shape[1]-3)\n",
        "C = stride_tricks.as_strided(Z, shape=(i, j, n, n), strides=Z.strides + Z.strides)\n",
        "print(C)"
      ]
    },
    {
      "cell_type": "markdown",
      "metadata": {
        "id": "Iq-_MYAZYLDT"
      },
      "source": [
        "#### 85. Create a 2D array subclass such that Z\\[i,j\\] == Z\\[j,i\\] (★★★) \n",
        "(**hint**: class method)"
      ]
    },
    {
      "cell_type": "code",
      "execution_count": 88,
      "metadata": {
        "id": "YyVeIANRYLDT",
        "colab": {
          "base_uri": "https://localhost:8080/"
        },
        "outputId": "17f7e828-dd84-4a1d-e73c-f08c1469b54b"
      },
      "outputs": [
        {
          "output_type": "stream",
          "name": "stdout",
          "text": [
            "[[ 7 14 12 12  8]\n",
            " [14  5  2 12  6]\n",
            " [12  2  0 42  9]\n",
            " [12 12 42  3 11]\n",
            " [ 8  6  9 11  2]]\n"
          ]
        }
      ],
      "source": [
        "class Symetric(np.ndarray):\n",
        "    def __setitem__(self, index, value):\n",
        "        i,j = index\n",
        "        super(Symetric, self).__setitem__((i,j), value)\n",
        "        super(Symetric, self).__setitem__((j,i), value)\n",
        "\n",
        "def symetric(Z):\n",
        "    return np.asarray(Z + Z.T - np.diag(Z.diagonal())).view(Symetric)\n",
        "\n",
        "S = symetric(np.random.randint(0,10,(5,5)))\n",
        "S[2,3] = 42\n",
        "print(S)"
      ]
    },
    {
      "cell_type": "markdown",
      "metadata": {
        "id": "Gl3j2QAqYLDU"
      },
      "source": [
        "#### 86. Consider a set of p matrices wich shape (n,n) and a set of p vectors with shape (n,1). How to compute the sum of of the p matrix products at once? (result has shape (n,1)) (★★★) \n",
        "(**hint**: np.tensordot)"
      ]
    },
    {
      "cell_type": "code",
      "execution_count": 89,
      "metadata": {
        "id": "o5A6hGjJYLDU",
        "colab": {
          "base_uri": "https://localhost:8080/"
        },
        "outputId": "fc9782c2-ba15-448f-9d06-f849e7e815d7"
      },
      "outputs": [
        {
          "output_type": "stream",
          "name": "stdout",
          "text": [
            "[[200.]\n",
            " [200.]\n",
            " [200.]\n",
            " [200.]\n",
            " [200.]\n",
            " [200.]\n",
            " [200.]\n",
            " [200.]\n",
            " [200.]\n",
            " [200.]\n",
            " [200.]\n",
            " [200.]\n",
            " [200.]\n",
            " [200.]\n",
            " [200.]\n",
            " [200.]\n",
            " [200.]\n",
            " [200.]\n",
            " [200.]\n",
            " [200.]]\n"
          ]
        }
      ],
      "source": [
        "p, n = 10, 20\n",
        "M = np.ones((p,n,n))\n",
        "V = np.ones((p,n,1))\n",
        "S = np.tensordot(M, V, axes=[[0, 2], [0, 1]])\n",
        "print(S)"
      ]
    },
    {
      "cell_type": "markdown",
      "metadata": {
        "id": "4pz2QodhYLDV"
      },
      "source": [
        "#### 87. Consider a 16x16 array, how to get the block-sum (block size is 4x4)? (★★★) \n",
        "(**hint**: np.add.reduceat)"
      ]
    },
    {
      "cell_type": "code",
      "execution_count": 90,
      "metadata": {
        "id": "oSIGznPHYLDV",
        "colab": {
          "base_uri": "https://localhost:8080/"
        },
        "outputId": "71fa7e06-c7d9-421d-d567-cde43e533ffe"
      },
      "outputs": [
        {
          "output_type": "stream",
          "name": "stdout",
          "text": [
            "[[16. 16. 16. 16.]\n",
            " [16. 16. 16. 16.]\n",
            " [16. 16. 16. 16.]\n",
            " [16. 16. 16. 16.]]\n"
          ]
        }
      ],
      "source": [
        "x = np.ones((16,16))\n",
        "k = 4\n",
        "S = np.add.reduceat(np.add.reduceat(x, np.arange(0, x.shape[0], k), axis=0),\n",
        "                                       np.arange(0, x.shape[1], k), axis=1)\n",
        "print(S)"
      ]
    },
    {
      "cell_type": "markdown",
      "metadata": {
        "id": "d1IE_fhxYLDW"
      },
      "source": [
        "#### 88. How to implement the Game of Life using numpy arrays? (★★★)"
      ]
    },
    {
      "cell_type": "code",
      "execution_count": 91,
      "metadata": {
        "id": "kGX08kvkYLDX",
        "colab": {
          "base_uri": "https://localhost:8080/"
        },
        "outputId": "f5c1b957-a138-4ffe-e0d9-20573b375e3c"
      },
      "outputs": [
        {
          "output_type": "stream",
          "name": "stdout",
          "text": [
            "[[0 0 0 0 0 0 0 0 0 0 0 0 0 0 0 0 0 0 0 0 0 0 0 0 0 0 0 0 0 0 0 0 0 0 0 0 0 0 0 0 0 0 0 0 0 0 0 0 0 0]\n",
            " [0 0 0 0 0 0 0 0 0 0 1 1 1 0 0 0 0 0 0 0 0 0 0 0 0 0 0 0 0 0 0 0 0 0 0 0 0 0 0 0 0 0 0 0 0 0 0 0 0 0]\n",
            " [0 0 0 0 0 0 0 0 0 1 0 0 0 1 0 0 0 0 0 0 0 0 0 0 0 0 0 0 0 0 0 0 0 0 0 0 0 0 0 0 0 0 0 0 0 0 0 0 0 0]\n",
            " [0 0 0 0 0 1 0 1 0 0 1 1 1 1 0 0 0 0 1 1 0 1 1 0 1 0 0 0 0 0 0 0 0 0 0 0 0 0 0 0 0 0 0 0 0 0 0 0 0 0]\n",
            " [0 0 0 0 0 1 0 0 0 1 1 0 0 0 0 0 0 0 0 1 1 1 1 1 0 0 0 0 0 0 0 0 0 0 0 0 0 0 0 0 0 0 0 0 0 0 0 0 0 0]\n",
            " [0 0 0 0 0 0 0 1 0 0 1 1 0 0 0 0 0 0 0 0 0 0 0 0 0 0 0 0 0 0 0 0 0 0 0 0 0 0 0 0 0 0 0 0 0 0 0 0 0 0]\n",
            " [0 0 0 0 0 0 0 0 1 1 1 0 0 0 1 1 0 0 0 0 0 0 0 0 0 0 0 0 0 0 0 0 0 0 0 0 0 0 0 0 0 0 0 0 0 0 0 0 0 0]\n",
            " [0 0 0 0 0 0 0 0 0 0 0 0 0 1 0 0 1 1 1 0 0 0 0 0 0 0 0 0 0 0 0 0 0 0 0 0 0 0 0 0 0 0 0 0 0 0 0 0 0 0]\n",
            " [0 0 0 0 0 0 0 0 0 0 1 0 0 0 0 0 0 0 0 1 0 0 0 0 0 0 0 1 1 0 0 0 0 0 0 0 0 0 0 0 0 0 0 0 0 0 0 0 0 0]\n",
            " [0 0 0 0 1 1 0 0 0 0 0 0 0 0 1 1 0 0 0 1 0 0 0 0 0 0 0 1 1 0 0 0 0 0 0 0 0 0 0 0 0 0 0 0 0 0 0 0 0 0]\n",
            " [0 0 0 0 1 1 0 0 0 0 0 0 0 0 0 0 1 1 1 0 0 0 0 0 0 0 0 0 0 0 0 0 0 0 0 0 0 0 0 0 0 0 0 0 0 0 0 0 0 0]\n",
            " [0 0 0 0 0 0 0 0 0 0 0 0 0 0 0 0 0 0 0 0 0 0 0 0 0 0 0 0 0 0 0 0 0 0 0 0 0 0 0 0 0 0 0 0 0 0 0 0 0 0]\n",
            " [0 0 0 0 0 0 0 0 0 0 0 0 0 0 0 0 0 0 0 0 0 0 1 1 0 0 0 0 0 0 0 0 0 0 0 0 0 0 0 0 0 0 0 0 0 0 0 0 0 0]\n",
            " [0 0 0 0 0 0 0 0 0 0 0 0 0 1 1 0 0 0 0 0 0 1 0 0 1 0 0 0 0 0 0 0 0 0 0 0 0 0 0 0 0 0 0 0 0 0 0 0 0 0]\n",
            " [0 0 0 0 0 0 0 0 0 0 0 0 1 0 0 0 0 0 0 0 0 0 1 1 0 0 0 0 0 0 0 0 0 0 0 0 0 0 0 0 0 0 0 0 0 0 0 0 0 0]\n",
            " [0 0 0 0 0 0 0 0 0 0 0 0 0 0 0 0 0 0 0 0 0 0 0 0 0 0 0 0 0 0 0 0 0 0 0 0 0 0 0 0 0 0 0 0 0 0 0 0 0 0]\n",
            " [0 0 0 0 0 0 0 0 0 0 0 0 0 1 0 1 0 0 0 0 0 0 0 0 0 0 0 0 0 0 0 0 0 0 0 0 0 0 0 0 0 0 0 0 0 0 0 0 0 0]\n",
            " [0 0 0 0 0 0 0 0 0 0 0 0 0 0 0 0 0 0 1 1 0 0 0 0 0 0 0 0 0 0 0 0 0 0 0 0 1 0 0 0 0 0 0 0 0 0 0 0 0 0]\n",
            " [0 0 0 0 0 0 0 0 0 0 0 0 0 0 0 0 0 1 0 0 0 0 0 0 0 0 0 0 0 0 0 0 0 0 0 1 1 0 0 0 0 0 0 0 0 0 0 0 0 0]\n",
            " [0 0 0 0 0 0 0 0 0 0 0 0 0 0 0 0 0 0 1 1 0 0 0 0 0 0 0 0 0 0 0 0 0 0 1 0 0 0 0 0 0 0 0 0 0 0 0 0 0 0]\n",
            " [0 0 0 0 0 0 0 0 0 0 0 0 0 0 0 0 0 0 0 0 0 0 0 0 0 0 0 0 0 1 1 0 0 0 0 1 1 0 0 0 0 0 0 0 0 0 0 0 0 0]\n",
            " [0 0 0 0 0 0 0 0 0 0 0 0 0 0 0 0 0 0 0 0 0 0 0 0 0 0 0 0 0 1 1 0 0 0 0 0 1 0 0 0 0 0 0 0 0 0 0 0 0 0]\n",
            " [0 0 0 0 0 0 0 0 0 0 0 0 0 0 0 0 0 0 0 0 0 0 0 0 0 0 0 0 0 0 0 0 0 0 0 0 0 0 0 0 0 0 0 0 0 0 0 0 0 0]\n",
            " [0 0 0 0 0 0 0 0 0 0 0 0 0 0 0 0 0 0 0 0 0 0 0 0 0 0 0 0 0 0 0 0 0 0 0 0 0 0 0 0 0 0 0 0 0 0 0 0 0 0]\n",
            " [0 0 0 0 0 0 0 0 0 0 0 0 0 0 0 0 0 0 0 0 0 0 0 0 0 0 0 0 0 0 0 0 0 0 0 0 0 0 0 0 0 0 0 0 0 0 0 0 0 0]\n",
            " [0 0 0 0 0 0 0 0 0 1 1 0 0 1 1 1 0 0 0 0 0 0 0 0 0 0 1 1 1 1 0 0 0 0 0 0 0 0 0 0 0 0 0 0 0 0 0 0 0 0]\n",
            " [0 0 0 0 0 0 0 0 0 1 1 0 0 1 1 1 0 0 0 0 0 0 0 0 0 1 0 0 1 0 0 0 0 0 0 0 0 0 0 0 0 0 0 0 0 0 0 0 0 0]\n",
            " [0 0 0 0 0 0 0 0 0 0 0 0 0 1 1 0 0 0 0 0 0 0 0 0 0 1 0 0 0 0 0 0 0 0 0 0 0 0 0 0 0 0 0 0 0 0 0 0 0 0]\n",
            " [0 0 0 0 0 0 0 0 0 0 0 0 0 0 1 0 0 1 0 0 0 0 0 0 0 0 1 1 0 0 0 0 0 0 0 0 0 0 0 0 0 0 0 0 0 0 0 0 0 0]\n",
            " [0 0 0 0 0 0 0 0 0 0 0 0 1 1 0 0 0 0 0 0 0 0 0 0 0 0 0 0 0 0 0 0 0 0 0 0 0 0 0 0 0 0 0 0 0 0 0 0 0 0]\n",
            " [0 0 0 0 0 0 0 0 0 0 0 0 0 1 0 0 0 0 0 0 0 0 0 0 0 0 0 0 0 0 0 0 0 0 0 0 0 0 0 0 1 1 0 0 0 1 1 0 0 0]\n",
            " [0 0 0 0 0 0 0 0 0 0 0 0 0 0 1 1 1 0 0 0 0 0 0 0 0 0 0 0 0 0 0 0 0 0 0 0 0 0 0 0 1 1 0 0 1 0 0 1 0 0]\n",
            " [0 0 0 0 0 0 0 0 0 0 0 0 0 0 1 0 0 1 0 0 0 0 0 0 0 0 0 0 0 0 0 0 0 0 0 0 0 0 0 0 0 0 0 0 0 1 1 0 0 0]\n",
            " [0 0 0 0 0 0 0 0 0 0 0 0 0 0 0 1 1 0 0 0 0 0 0 0 0 0 0 0 0 0 0 0 0 0 0 0 0 0 0 0 0 0 0 0 0 0 0 0 0 0]\n",
            " [0 0 0 0 0 0 0 0 0 0 0 0 0 0 0 0 1 0 1 0 0 0 0 0 0 0 0 0 0 0 0 0 1 0 0 0 0 0 0 0 0 0 0 0 0 0 0 0 0 0]\n",
            " [0 0 0 0 0 0 0 0 0 0 0 0 0 0 0 0 0 1 0 0 0 0 0 0 0 0 0 0 0 0 0 1 0 1 0 0 0 0 0 0 0 0 0 0 0 0 0 0 0 0]\n",
            " [0 0 0 0 0 0 0 0 0 0 0 0 0 0 0 0 0 0 0 0 0 0 0 0 0 0 0 0 0 0 0 1 0 1 0 0 0 0 0 0 0 0 0 0 0 0 0 0 0 0]\n",
            " [0 0 0 0 0 0 0 0 0 0 0 0 0 0 0 0 0 0 0 0 0 0 0 0 0 0 0 0 0 0 0 0 1 0 0 0 1 0 0 0 0 0 0 0 0 0 0 0 0 0]\n",
            " [0 0 0 0 0 0 0 0 0 0 0 0 0 0 0 0 0 0 0 0 0 0 0 0 0 0 0 0 1 0 0 0 0 0 0 1 0 1 0 0 0 0 0 0 0 0 0 0 0 0]\n",
            " [0 0 0 0 0 0 0 0 0 0 0 0 0 0 0 0 0 0 0 0 0 0 0 0 1 1 0 0 1 0 0 0 0 0 1 1 0 1 1 0 0 0 0 0 0 0 0 0 0 0]\n",
            " [0 0 0 0 0 0 0 0 0 0 0 0 0 0 0 0 0 0 0 0 0 0 0 1 0 1 0 0 0 1 0 0 0 0 0 0 0 0 0 0 0 0 0 0 0 0 0 0 0 0]\n",
            " [0 0 0 0 0 0 0 0 0 0 0 0 0 0 0 0 0 1 1 0 0 0 1 1 0 1 0 0 0 1 0 0 0 0 0 0 0 0 0 0 0 0 0 0 0 0 0 0 0 0]\n",
            " [0 0 0 0 0 0 0 0 0 0 0 0 0 0 0 0 0 1 1 0 0 0 0 1 1 1 0 0 0 1 1 0 0 0 0 0 0 0 0 0 0 0 0 0 0 0 0 0 0 0]\n",
            " [0 0 0 0 0 0 0 0 0 0 0 0 0 0 0 0 0 0 0 0 0 0 0 0 1 0 0 0 0 0 1 0 0 0 0 0 0 0 0 0 0 0 0 0 0 0 0 0 0 0]\n",
            " [0 0 0 0 0 0 0 0 0 0 0 0 0 0 0 0 0 0 0 0 0 0 0 0 0 0 0 1 1 1 0 0 0 0 0 0 0 0 0 0 0 0 0 0 0 0 0 0 0 0]\n",
            " [0 0 0 0 0 0 0 0 0 0 0 0 0 0 0 0 0 0 0 0 0 0 0 0 0 0 0 0 0 0 0 0 0 0 0 0 0 0 0 0 0 0 0 0 0 0 0 0 0 0]\n",
            " [0 0 0 0 0 0 0 0 0 0 0 0 0 0 0 0 0 0 0 0 0 0 0 0 0 0 0 0 0 0 0 0 0 0 0 0 0 0 0 0 0 0 0 0 0 0 0 0 0 0]\n",
            " [0 0 0 0 0 0 0 0 0 0 0 0 0 0 0 0 0 0 0 0 0 0 0 0 0 0 0 0 0 0 0 0 0 0 0 0 0 0 0 0 0 0 0 0 0 0 0 0 0 0]\n",
            " [0 0 0 0 0 0 0 0 0 0 0 0 0 0 0 0 0 0 0 0 0 0 0 0 0 0 0 0 0 0 0 0 0 0 0 0 0 0 0 0 0 0 0 0 0 0 0 0 0 0]\n",
            " [0 0 0 0 0 0 0 0 0 0 0 0 0 0 0 0 0 0 0 0 0 0 0 0 0 0 0 0 0 0 0 0 0 0 0 0 0 0 0 0 0 0 0 0 0 0 0 0 0 0]]\n"
          ]
        }
      ],
      "source": [
        "def iterate(Z):\n",
        "    N = (Z[0:-2,0:-2] + Z[0:-2,1:-1] + Z[0:-2,2:] +\n",
        "         Z[1:-1,0:-2]                + Z[1:-1,2:] +\n",
        "         Z[2:  ,0:-2] + Z[2:  ,1:-1] + Z[2:  ,2:])\n",
        "\n",
        "    birth = (N==3) & (Z[1:-1,1:-1]==0)\n",
        "    survive = ((N==2) | (N==3)) & (Z[1:-1,1:-1]==1)\n",
        "    Z[...] = 0\n",
        "    Z[1:-1,1:-1][birth | survive] = 1\n",
        "    return Z\n",
        "\n",
        "Z = np.random.randint(0,2,(50,50))\n",
        "for i in range(100): Z = iterate(Z)\n",
        "print(Z)"
      ]
    },
    {
      "cell_type": "markdown",
      "metadata": {
        "id": "fxTAl8ckYLDX"
      },
      "source": [
        "#### 89. How to get the n largest values of an array (★★★) \n",
        "(**hint**: np.argsort | np.argpartition)"
      ]
    },
    {
      "cell_type": "code",
      "execution_count": 92,
      "metadata": {
        "id": "1h57h80EYLDY",
        "colab": {
          "base_uri": "https://localhost:8080/"
        },
        "outputId": "13e98178-d86c-4570-abce-00c3de60b94c"
      },
      "outputs": [
        {
          "output_type": "stream",
          "name": "stdout",
          "text": [
            "[9998 9996 9995 9997 9999]\n"
          ]
        }
      ],
      "source": [
        "x = np.arange(10000)\n",
        "np.random.shuffle(x)\n",
        "n = 5\n",
        "\n",
        "print (x[np.argpartition(-x,n)[:n]])"
      ]
    },
    {
      "cell_type": "markdown",
      "metadata": {
        "id": "HaNQ3qC7YLDZ"
      },
      "source": [
        "#### 90. Given an arbitrary number of vectors, build the cartesian product (every combinations of every item) (★★★) \n",
        "(**hint**: np.indices)"
      ]
    },
    {
      "cell_type": "code",
      "execution_count": 93,
      "metadata": {
        "scrolled": true,
        "id": "IAmkr9ttYLDZ",
        "colab": {
          "base_uri": "https://localhost:8080/"
        },
        "outputId": "50e50d8c-38cf-42b0-f3d2-17e2015cc1ca"
      },
      "outputs": [
        {
          "output_type": "stream",
          "name": "stdout",
          "text": [
            "[[1 4 6]\n",
            " [1 4 7]\n",
            " [1 5 6]\n",
            " [1 5 7]\n",
            " [2 4 6]\n",
            " [2 4 7]\n",
            " [2 5 6]\n",
            " [2 5 7]\n",
            " [3 4 6]\n",
            " [3 4 7]\n",
            " [3 5 6]\n",
            " [3 5 7]]\n"
          ]
        }
      ],
      "source": [
        "def cartesian(arrays):\n",
        "    arrays = [np.asarray(a) for a in arrays]\n",
        "    shape = (len(x) for x in arrays)\n",
        "\n",
        "    ix = np.indices(shape, dtype=int)\n",
        "    ix = ix.reshape(len(arrays), -1).T\n",
        "\n",
        "    for n, arr in enumerate(arrays):\n",
        "        ix[:, n] = arrays[n][ix[:, n]]\n",
        "\n",
        "    return ix\n",
        "\n",
        "print (cartesian(([1, 2, 3], [4, 5], [6, 7])))"
      ]
    },
    {
      "cell_type": "markdown",
      "metadata": {
        "id": "dlJ46_Z_YLDa"
      },
      "source": [
        "#### 91. How to create a record array from a regular array? (★★★) \n",
        "(**hint**: np.core.records.fromarrays)"
      ]
    },
    {
      "cell_type": "code",
      "execution_count": 94,
      "metadata": {
        "id": "qmSe4reJYLDb",
        "colab": {
          "base_uri": "https://localhost:8080/"
        },
        "outputId": "3371f0b7-21a1-40e9-878b-0f39af823264"
      },
      "outputs": [
        {
          "output_type": "stream",
          "name": "stdout",
          "text": [
            "[[1 4 6]\n",
            " [1 4 7]\n",
            " [1 5 6]\n",
            " [1 5 7]\n",
            " [2 4 6]\n",
            " [2 4 7]\n",
            " [2 5 6]\n",
            " [2 5 7]\n",
            " [3 4 6]\n",
            " [3 4 7]\n",
            " [3 5 6]\n",
            " [3 5 7]]\n"
          ]
        }
      ],
      "source": [
        "def cartesian(arrays):\n",
        "    arrays = [np.asarray(a) for a in arrays]\n",
        "    shape = (len(x) for x in arrays)\n",
        "\n",
        "    ix = np.indices(shape, dtype=int)\n",
        "    ix = ix.reshape(len(arrays), -1).T\n",
        "\n",
        "    for n, arr in enumerate(arrays):\n",
        "        ix[:, n] = arrays[n][ix[:, n]]\n",
        "\n",
        "    return ix\n",
        "\n",
        "print (cartesian(([1, 2, 3], [4, 5], [6, 7])))"
      ]
    },
    {
      "cell_type": "markdown",
      "metadata": {
        "id": "c1xXf9HfYLDb"
      },
      "source": [
        "#### 92. Consider a large vector Z, compute Z to the power of 3 using 3 different methods (★★★) \n",
        "(**hint**: np.power, \\*, np.einsum)"
      ]
    },
    {
      "cell_type": "code",
      "execution_count": 95,
      "metadata": {
        "id": "EH71uHbXYLDc",
        "colab": {
          "base_uri": "https://localhost:8080/"
        },
        "outputId": "da793a09-16f3-40ac-db75-bf958a1dee41"
      },
      "outputs": [
        {
          "output_type": "stream",
          "name": "stdout",
          "text": [
            "The slowest run took 20.08 times longer than the fastest. This could mean that an intermediate result is being cached.\n",
            "100000 loops, best of 5: 2.07 µs per loop\n",
            "The slowest run took 12.49 times longer than the fastest. This could mean that an intermediate result is being cached.\n",
            "1000000 loops, best of 5: 1.08 µs per loop\n",
            "The slowest run took 15.22 times longer than the fastest. This could mean that an intermediate result is being cached.\n",
            "100000 loops, best of 5: 3.28 µs per loop\n"
          ]
        }
      ],
      "source": [
        "x = np.random.rand(5)\n",
        "\n",
        "%timeit np.power(x,3)\n",
        "%timeit x*x*x\n",
        "%timeit np.einsum('i,i,i->i',x,x,x)"
      ]
    },
    {
      "cell_type": "markdown",
      "metadata": {
        "id": "W3J3j5RTYLDd"
      },
      "source": [
        "#### 93. Consider two arrays A and B of shape (8,3) and (2,2). How to find rows of A that contain elements of each row of B regardless of the order of the elements in B? (★★★) \n",
        "(**hint**: np.where)"
      ]
    },
    {
      "cell_type": "code",
      "execution_count": 96,
      "metadata": {
        "id": "Pca3O_8_YLDd",
        "colab": {
          "base_uri": "https://localhost:8080/"
        },
        "outputId": "adae019d-cab0-49fb-82a5-cb2d6e0322b3"
      },
      "outputs": [
        {
          "output_type": "stream",
          "name": "stdout",
          "text": [
            "[1 4]\n"
          ]
        }
      ],
      "source": [
        "A = np.random.randint(0,5,(8,3))\n",
        "B = np.random.randint(0,5,(2,2))\n",
        "\n",
        "C = (A[..., np.newaxis, np.newaxis] == B)\n",
        "rows = np.where(C.any((3,1)).all(1))[0]\n",
        "print(rows)"
      ]
    },
    {
      "cell_type": "markdown",
      "metadata": {
        "id": "LGnte0IGYLDd"
      },
      "source": [
        "#### 94. Considering a 10x3 matrix, extract rows with unequal values (e.g. \\[2,2,3\\]) (★★★)"
      ]
    },
    {
      "cell_type": "code",
      "execution_count": 97,
      "metadata": {
        "id": "w5Yr6PHNYLDe",
        "colab": {
          "base_uri": "https://localhost:8080/"
        },
        "outputId": "4c4b8ac7-ee17-4032-9a04-3b19859a2f3d"
      },
      "outputs": [
        {
          "output_type": "stream",
          "name": "stdout",
          "text": [
            "[[3 3 1]\n",
            " [0 0 1]\n",
            " [1 1 3]\n",
            " [3 2 0]\n",
            " [4 3 1]\n",
            " [4 1 2]\n",
            " [3 0 4]\n",
            " [2 2 4]\n",
            " [0 3 0]\n",
            " [4 2 3]]\n",
            "[[3 3 1]\n",
            " [0 0 1]\n",
            " [1 1 3]\n",
            " [3 2 0]\n",
            " [4 3 1]\n",
            " [4 1 2]\n",
            " [3 0 4]\n",
            " [2 2 4]\n",
            " [0 3 0]\n",
            " [4 2 3]]\n"
          ]
        }
      ],
      "source": [
        "x = np.random.randint(0,5,(10,3))\n",
        "print(x)\n",
        "E = np.all(x[:,1:] == x[:,:-1], axis=1)\n",
        "U = x[~E]\n",
        "print(U)"
      ]
    },
    {
      "cell_type": "markdown",
      "metadata": {
        "id": "OV5ezzgFYLDf"
      },
      "source": [
        "#### 95. Convert a vector of ints into a matrix binary representation (★★★) \n",
        "(**hint**: np.unpackbits)"
      ]
    },
    {
      "cell_type": "code",
      "execution_count": 98,
      "metadata": {
        "id": "K26GbA5OYLDf",
        "colab": {
          "base_uri": "https://localhost:8080/"
        },
        "outputId": "e9700380-5c79-4994-9dfc-9760c0a46410"
      },
      "outputs": [
        {
          "output_type": "stream",
          "name": "stdout",
          "text": [
            "[[0 0 0 0 0 0 0 0]\n",
            " [0 0 0 0 0 0 0 1]\n",
            " [0 0 0 0 0 0 1 0]\n",
            " [0 0 0 0 0 0 1 1]\n",
            " [0 0 0 0 1 1 1 1]\n",
            " [0 0 0 1 0 0 0 0]\n",
            " [0 0 1 0 0 0 0 0]\n",
            " [0 1 0 0 0 0 0 0]\n",
            " [1 0 0 0 0 0 0 0]]\n",
            "[[0 0 0 0 0 0 0 0]\n",
            " [0 0 0 0 0 0 0 1]\n",
            " [0 0 0 0 0 0 1 0]\n",
            " [0 0 0 0 0 0 1 1]\n",
            " [0 0 0 0 1 1 1 1]\n",
            " [0 0 0 1 0 0 0 0]\n",
            " [0 0 1 0 0 0 0 0]\n",
            " [0 1 0 0 0 0 0 0]\n",
            " [1 0 0 0 0 0 0 0]]\n"
          ]
        }
      ],
      "source": [
        "I = np.array([0, 1, 2, 3, 15, 16, 32, 64, 128])\n",
        "B = ((I.reshape(-1,1) & (2**np.arange(8))) != 0).astype(int)\n",
        "print(B[:,::-1])\n",
        "\n",
        "I = np.array([0, 1, 2, 3, 15, 16, 32, 64, 128], dtype=np.uint8)\n",
        "print(np.unpackbits(I[:, np.newaxis], axis=1))"
      ]
    },
    {
      "cell_type": "markdown",
      "metadata": {
        "id": "_eMd_vF_YLDf"
      },
      "source": [
        "#### 96. Given a two dimensional array, how to extract unique rows? (★★★) \n",
        "(**hint**: np.ascontiguousarray)"
      ]
    },
    {
      "cell_type": "code",
      "execution_count": 99,
      "metadata": {
        "id": "v7fe3FH0YLDg",
        "colab": {
          "base_uri": "https://localhost:8080/"
        },
        "outputId": "aa87e906-5d4d-4139-909f-781945a51149"
      },
      "outputs": [
        {
          "output_type": "stream",
          "name": "stdout",
          "text": [
            "[[0 0 1]\n",
            " [0 1 0]\n",
            " [1 0 1]\n",
            " [1 1 1]]\n"
          ]
        }
      ],
      "source": [
        "Z = np.random.randint(0,2,(6,3))\n",
        "T = np.ascontiguousarray(Z).view(np.dtype((np.void, Z.dtype.itemsize * Z.shape[1])))\n",
        "_, idx = np.unique(T, return_index=True)\n",
        "uZ = Z[idx]\n",
        "print(uZ)\n"
      ]
    },
    {
      "cell_type": "markdown",
      "metadata": {
        "id": "ddICjv2uYLDg"
      },
      "source": [
        "#### 97. Considering 2 vectors A & B, write the einsum equivalent of inner, outer, sum, and mul function (★★★) \n",
        "(**hint**: np.einsum)"
      ]
    },
    {
      "cell_type": "code",
      "execution_count": 100,
      "metadata": {
        "id": "-fry3xXcYLDh",
        "colab": {
          "base_uri": "https://localhost:8080/"
        },
        "outputId": "9395fc0b-451a-4d99-9bc0-c28784c8e30c"
      },
      "outputs": [
        {
          "output_type": "execute_result",
          "data": {
            "text/plain": [
              "array([[0.5867846 , 0.3461216 , 0.41921802, 0.04703999, 0.58584514, 0.2404997 , 0.09082781, 0.31979005, 0.45986126, 0.55612863],\n",
              "       [0.61566313, 0.36315593, 0.43984978, 0.04935506, 0.61467743, 0.25233586, 0.09529789, 0.33552847, 0.48249328, 0.58349844],\n",
              "       [0.30786676, 0.18159873, 0.21995004, 0.02468035, 0.30737386, 0.12618236, 0.0476544 , 0.16778342, 0.24127422, 0.29178258],\n",
              "       [0.05004752, 0.0295211 , 0.03575558, 0.00401209, 0.0499674 , 0.02051249, 0.00774681, 0.02727526, 0.03922209, 0.04743284],\n",
              "       [0.42892954, 0.25300899, 0.30644123, 0.03438543, 0.42824281, 0.17580118, 0.06639359, 0.23376108, 0.33615075, 0.40652056],\n",
              "       [0.66962576, 0.3949864 , 0.47840244, 0.05368101, 0.66855366, 0.274453  , 0.10365072, 0.36493741, 0.52478362, 0.63464184],\n",
              "       [0.72001251, 0.42470761, 0.51440038, 0.0577203 , 0.71885975, 0.29510453, 0.11145003, 0.39239755, 0.56427157, 0.68239619],\n",
              "       [0.32149751, 0.18963898, 0.22968829, 0.02577307, 0.32098278, 0.13176906, 0.04976429, 0.175212  , 0.2519566 , 0.3047012 ],\n",
              "       [0.42436435, 0.25031616, 0.30317971, 0.03401946, 0.42368493, 0.17393009, 0.06568694, 0.2312731 , 0.33257302, 0.40219387],\n",
              "       [0.71555298, 0.4220771 , 0.51121434, 0.0573628 , 0.71440736, 0.29327674, 0.11075975, 0.38996716, 0.56077664, 0.67816964]])"
            ]
          },
          "metadata": {},
          "execution_count": 100
        }
      ],
      "source": [
        "A = np.random.uniform(0,1,10)\n",
        "B = np.random.uniform(0,1,10)\n",
        "\n",
        "np.einsum('i->', A)       \n",
        "np.einsum('i,i->i', A, B) \n",
        "np.einsum('i,i', A, B)    \n",
        "np.einsum('i,j->ij', A, B) "
      ]
    },
    {
      "cell_type": "markdown",
      "metadata": {
        "id": "dMs7OioCYLDh"
      },
      "source": [
        "#### 98. Considering a path described by two vectors (X,Y), how to sample it using equidistant samples (★★★)? \n",
        "(**hint**: np.cumsum, np.interp)"
      ]
    },
    {
      "cell_type": "code",
      "execution_count": 101,
      "metadata": {
        "collapsed": true,
        "id": "HuZWNS66YLDh"
      },
      "outputs": [],
      "source": [
        "phi = np.arange(0, 10*np.pi, 0.1)\n",
        "a = 1\n",
        "x = a*phi*np.cos(phi)\n",
        "y = a*phi*np.sin(phi)\n",
        "\n",
        "dr = (np.diff(x)**2 + np.diff(y)**2)**.5 \n",
        "r = np.zeros_like(x)\n",
        "r[1:] = np.cumsum(dr)                \n",
        "r_int = np.linspace(0, r.max(), 200) \n",
        "x_int = np.interp(r_int, r, x)       \n",
        "y_int = np.interp(r_int, r, y)"
      ]
    },
    {
      "cell_type": "markdown",
      "metadata": {
        "id": "DmovAbV_YLDi"
      },
      "source": [
        "#### 99. Given an integer n and a 2D array X, select from X the rows which can be interpreted as draws from a multinomial distribution with n degrees, i.e., the rows which only contain integers and which sum to n. (★★★) \n",
        "(**hint**: np.logical\\_and.reduce, np.mod)"
      ]
    },
    {
      "cell_type": "code",
      "execution_count": 102,
      "metadata": {
        "id": "yifRUDlLYLDi",
        "colab": {
          "base_uri": "https://localhost:8080/"
        },
        "outputId": "c1f1463e-95e6-434a-9620-52ce60a77ffd"
      },
      "outputs": [
        {
          "output_type": "stream",
          "name": "stdout",
          "text": [
            "[[2. 0. 1. 1.]]\n"
          ]
        }
      ],
      "source": [
        "X = np.asarray([[1.0, 0.0, 3.0, 8.0],\n",
        "                [2.0, 0.0, 1.0, 1.0],\n",
        "                [1.5, 2.5, 1.0, 0.0]])\n",
        "n = 4\n",
        "M = np.logical_and.reduce(np.mod(X, 1) == 0, axis=-1)\n",
        "M &= (X.sum(axis=-1) == n)\n",
        "print(X[M])"
      ]
    },
    {
      "cell_type": "markdown",
      "metadata": {
        "id": "yrauVHCrYLDi"
      },
      "source": [
        "#### 100. Compute bootstrapped 95% confidence intervals for the mean of a 1D array X (i.e., resample the elements of an array with replacement N times, compute the mean of each sample, and then compute percentiles over the means). (★★★) \n",
        "(**hint**: np.percentile)"
      ]
    },
    {
      "cell_type": "code",
      "execution_count": 103,
      "metadata": {
        "id": "ww1GFfshYLDj",
        "colab": {
          "base_uri": "https://localhost:8080/"
        },
        "outputId": "481a86e7-3eba-4ad3-f4fc-f3d7b27defe0"
      },
      "outputs": [
        {
          "output_type": "stream",
          "name": "stdout",
          "text": [
            "[-0.3430763   0.01713898]\n"
          ]
        }
      ],
      "source": [
        "X = np.random.randn(100) \n",
        "N = 1000\n",
        "idx = np.random.randint(0, X.size, (N, X.size))\n",
        "means = X[idx].mean(axis=1)\n",
        "confint = np.percentile(means, [2.5, 97.5])\n",
        "print(confint)"
      ]
    },
    {
      "cell_type": "code",
      "source": [
        ""
      ],
      "metadata": {
        "id": "Bzh6fTJ2wojd"
      },
      "execution_count": null,
      "outputs": []
    }
  ],
  "metadata": {
    "kernelspec": {
      "display_name": "Python 3",
      "language": "python",
      "name": "python3"
    },
    "language_info": {
      "codemirror_mode": {
        "name": "ipython",
        "version": 3
      },
      "file_extension": ".py",
      "mimetype": "text/x-python",
      "name": "python",
      "nbconvert_exporter": "python",
      "pygments_lexer": "ipython3",
      "version": "3.8.3"
    },
    "colab": {
      "name": "Copy of Numpy_tasks.ipynb",
      "provenance": [],
      "collapsed_sections": []
    }
  },
  "nbformat": 4,
  "nbformat_minor": 0
}